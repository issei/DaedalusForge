{
  "cells": [
    {
      "cell_type": "markdown",
      "metadata": {
        "id": "dYmGKhlfpHBm"
      },
      "source": [
        "# Geração de Copy para Lançamentos com Agentes de IA em Grafo\n",
        "\n",
        "### Objetivo Principal\n",
        "Este notebook automatiza a criação de textos de marketing (copy) para o lançamento de um infoproduto. Utilizando um briefing detalhado como ponto de partida, uma rede de agentes de IA, orquestrada com **LangGraph**, gera de forma colaborativa e iterativa os principais ativos de comunicação necessários para uma campanha.\n",
        "\n",
        "### Arquitetura da Solução Local\n",
        "A solução é construída sobre uma arquitetura que combina um Large Language Model (LLM) com um framework de orquestração de grafos e uma base de conhecimento vetorial local (RAG).\n",
        "\n",
        "- **LLM**: **Google Gemini 1.5 Flash**, um modelo rápido e eficiente para geração de texto.\n",
        "- **Framework de Orquestração**: **LangGraph**, para criar um fluxo de trabalho cíclico e com estado, permitindo que os agentes colaborem e refinem o trabalho uns dos outros.\n",
        "- **RAG (Retrieval-Augmented Generation)**: Utilizamos o **ChromaDB** para criar uma base de conhecimento vetorial localmente. O briefing do lançamento é processado, dividido em partes (chunks), transformado em vetores pelo modelo de embedding do Google e indexado. Os agentes podem consultar essa base para garantir que a copy gerada seja consistente e alinhada à estratégia.\n",
        "\n",
        "### Fluxo de Execução com LangGraph\n",
        "O processo é gerenciado por um grafo de estados que coordena os agentes em um fluxo lógico:\n",
        "\n",
        "1.  **Configuração e Indexação**: O ambiente é preparado, as dependências são instaladas и o briefing do lançamento é carregado e indexado na base de conhecimento local (ChromaDB).\n",
        "2.  **Análise Inicial (Paralela)**: Três agentes especializados (`Dores & Promessas`, `Objeções & Quebras`, `Headlines & Ângulos`) analisam o briefing simultaneamente para extrair os insights fundamentais.\n",
        "3.  **Consolidação de Contexto**: Um nó `Consolidador` reúne as análises iniciais, criando um \"super contexto\" enriquecido que servirá de base para a criação da copy.\n",
        "4.  **Geração da Copy**: O agente de `Adaptação por Canais` utiliza o contexto enriquecido para criar as primeiras versões da copy para as diferentes plataformas (Email, Ads, Stories, etc.).\n",
        "5.  **Ciclo de Revisão e Refinamento**:\n",
        "    - Um agente `Crítico Revisor` avalia a copy gerada, comparando-a com o briefing original e as melhores práticas de marketing.\n",
        "    - Se a copy for **\"APROVADA\"**, o fluxo termina.\n",
        "    - Se for marcada para **\"REFINAR\"**, o agente de `Adaptação` recebe o feedback e gera uma nova versão, iniciando um novo ciclo de revisão.\n",
        "6.  **Saída Final**: Após a aprovação, a versão final da copy é salva em arquivos `JSON` e `Markdown`, pronta para uso."
      ],
      "id": "dYmGKhlfpHBm"
    },
    {
      "cell_type": "markdown",
      "metadata": {
        "id": "aE04kEKtpHBn"
      },
      "source": [
        "### Passo 1: Instalação das Dependências\n",
        "\n",
        "Primeiro, vamos instalar todas as bibliotecas necessárias para o nosso projeto."
      ],
      "id": "aE04kEKtpHBn"
    },
    {
      "cell_type": "code",
      "execution_count": 1,
      "metadata": {
        "colab": {
          "base_uri": "https://localhost:8080/"
        },
        "id": "2_SF7fWqpHBo",
        "outputId": "c2f9a83b-b780-4aa9-c93d-1fc271a9b87e"
      },
      "outputs": [
        {
          "output_type": "stream",
          "name": "stdout",
          "text": [
            "\u001b[?25l     \u001b[90m━━━━━━━━━━━━━━━━━━━━━━━━━━━━━━━━━━━━━━━━\u001b[0m \u001b[32m0.0/67.3 kB\u001b[0m \u001b[31m?\u001b[0m eta \u001b[36m-:--:--\u001b[0m\r\u001b[2K     \u001b[90m━━━━━━━━━━━━━━━━━━━━━━━━━━━━━━━━━━━━━━━━\u001b[0m \u001b[32m67.3/67.3 kB\u001b[0m \u001b[31m3.8 MB/s\u001b[0m eta \u001b[36m0:00:00\u001b[0m\n",
            "\u001b[?25h  Installing build dependencies ... \u001b[?25l\u001b[?25hdone\n",
            "  Getting requirements to build wheel ... \u001b[?25l\u001b[?25hdone\n",
            "  Preparing metadata (pyproject.toml) ... \u001b[?25l\u001b[?25hdone\n",
            "\u001b[2K   \u001b[90m━━━━━━━━━━━━━━━━━━━━━━━━━━━━━━━━━━━━━━━━\u001b[0m \u001b[32m155.4/155.4 kB\u001b[0m \u001b[31m9.2 MB/s\u001b[0m eta \u001b[36m0:00:00\u001b[0m\n",
            "\u001b[2K   \u001b[90m━━━━━━━━━━━━━━━━━━━━━━━━━━━━━━━━━━━━━━━━\u001b[0m \u001b[32m42.0/42.0 kB\u001b[0m \u001b[31m2.2 MB/s\u001b[0m eta \u001b[36m0:00:00\u001b[0m\n",
            "\u001b[2K   \u001b[90m━━━━━━━━━━━━━━━━━━━━━━━━━━━━━━━━━━━━━━━━\u001b[0m \u001b[32m19.9/19.9 MB\u001b[0m \u001b[31m55.8 MB/s\u001b[0m eta \u001b[36m0:00:00\u001b[0m\n",
            "\u001b[2K   \u001b[90m━━━━━━━━━━━━━━━━━━━━━━━━━━━━━━━━━━━━━━━━\u001b[0m \u001b[32m2.5/2.5 MB\u001b[0m \u001b[31m63.7 MB/s\u001b[0m eta \u001b[36m0:00:00\u001b[0m\n",
            "\u001b[2K   \u001b[90m━━━━━━━━━━━━━━━━━━━━━━━━━━━━━━━━━━━━━━━━\u001b[0m \u001b[32m278.2/278.2 kB\u001b[0m \u001b[31m14.8 MB/s\u001b[0m eta \u001b[36m0:00:00\u001b[0m\n",
            "\u001b[2K   \u001b[90m━━━━━━━━━━━━━━━━━━━━━━━━━━━━━━━━━━━━━━━━\u001b[0m \u001b[32m2.0/2.0 MB\u001b[0m \u001b[31m52.8 MB/s\u001b[0m eta \u001b[36m0:00:00\u001b[0m\n",
            "\u001b[2K   \u001b[90m━━━━━━━━━━━━━━━━━━━━━━━━━━━━━━━━━━━━━━━━\u001b[0m \u001b[32m45.8/45.8 kB\u001b[0m \u001b[31m2.5 MB/s\u001b[0m eta \u001b[36m0:00:00\u001b[0m\n",
            "\u001b[2K   \u001b[90m━━━━━━━━━━━━━━━━━━━━━━━━━━━━━━━━━━━━━━━━\u001b[0m \u001b[32m56.8/56.8 kB\u001b[0m \u001b[31m2.9 MB/s\u001b[0m eta \u001b[36m0:00:00\u001b[0m\n",
            "\u001b[2K   \u001b[90m━━━━━━━━━━━━━━━━━━━━━━━━━━━━━━━━━━━━━━━━\u001b[0m \u001b[32m103.3/103.3 kB\u001b[0m \u001b[31m7.7 MB/s\u001b[0m eta \u001b[36m0:00:00\u001b[0m\n",
            "\u001b[2K   \u001b[90m━━━━━━━━━━━━━━━━━━━━━━━━━━━━━━━━━━━━━━━━\u001b[0m \u001b[32m17.4/17.4 MB\u001b[0m \u001b[31m72.8 MB/s\u001b[0m eta \u001b[36m0:00:00\u001b[0m\n",
            "\u001b[2K   \u001b[90m━━━━━━━━━━━━━━━━━━━━━━━━━━━━━━━━━━━━━━━━\u001b[0m \u001b[32m72.5/72.5 kB\u001b[0m \u001b[31m4.8 MB/s\u001b[0m eta \u001b[36m0:00:00\u001b[0m\n",
            "\u001b[2K   \u001b[90m━━━━━━━━━━━━━━━━━━━━━━━━━━━━━━━━━━━━━━━━\u001b[0m \u001b[32m132.3/132.3 kB\u001b[0m \u001b[31m9.0 MB/s\u001b[0m eta \u001b[36m0:00:00\u001b[0m\n",
            "\u001b[2K   \u001b[90m━━━━━━━━━━━━━━━━━━━━━━━━━━━━━━━━━━━━━━━━\u001b[0m \u001b[32m65.9/65.9 kB\u001b[0m \u001b[31m4.1 MB/s\u001b[0m eta \u001b[36m0:00:00\u001b[0m\n",
            "\u001b[2K   \u001b[90m━━━━━━━━━━━━━━━━━━━━━━━━━━━━━━━━━━━━━━━━\u001b[0m \u001b[32m208.0/208.0 kB\u001b[0m \u001b[31m15.7 MB/s\u001b[0m eta \u001b[36m0:00:00\u001b[0m\n",
            "\u001b[2K   \u001b[90m━━━━━━━━━━━━━━━━━━━━━━━━━━━━━━━━━━━━━━━━\u001b[0m \u001b[32m105.4/105.4 kB\u001b[0m \u001b[31m7.9 MB/s\u001b[0m eta \u001b[36m0:00:00\u001b[0m\n",
            "\u001b[2K   \u001b[90m━━━━━━━━━━━━━━━━━━━━━━━━━━━━━━━━━━━━━━━━\u001b[0m \u001b[32m71.6/71.6 kB\u001b[0m \u001b[31m5.2 MB/s\u001b[0m eta \u001b[36m0:00:00\u001b[0m\n",
            "\u001b[2K   \u001b[90m━━━━━━━━━━━━━━━━━━━━━━━━━━━━━━━━━━━━━━━━\u001b[0m \u001b[32m64.7/64.7 kB\u001b[0m \u001b[31m4.2 MB/s\u001b[0m eta \u001b[36m0:00:00\u001b[0m\n",
            "\u001b[2K   \u001b[90m━━━━━━━━━━━━━━━━━━━━━━━━━━━━━━━━━━━━━━━━\u001b[0m \u001b[32m517.7/517.7 kB\u001b[0m \u001b[31m30.3 MB/s\u001b[0m eta \u001b[36m0:00:00\u001b[0m\n",
            "\u001b[2K   \u001b[90m━━━━━━━━━━━━━━━━━━━━━━━━━━━━━━━━━━━━━━━━\u001b[0m \u001b[32m50.9/50.9 kB\u001b[0m \u001b[31m3.2 MB/s\u001b[0m eta \u001b[36m0:00:00\u001b[0m\n",
            "\u001b[2K   \u001b[90m━━━━━━━━━━━━━━━━━━━━━━━━━━━━━━━━━━━━━━━━\u001b[0m \u001b[32m207.6/207.6 kB\u001b[0m \u001b[31m14.0 MB/s\u001b[0m eta \u001b[36m0:00:00\u001b[0m\n",
            "\u001b[2K   \u001b[90m━━━━━━━━━━━━━━━━━━━━━━━━━━━━━━━━━━━━━━━━\u001b[0m \u001b[32m128.4/128.4 kB\u001b[0m \u001b[31m8.7 MB/s\u001b[0m eta \u001b[36m0:00:00\u001b[0m\n",
            "\u001b[2K   \u001b[90m━━━━━━━━━━━━━━━━━━━━━━━━━━━━━━━━━━━━━━━━\u001b[0m \u001b[32m4.4/4.4 MB\u001b[0m \u001b[31m101.7 MB/s\u001b[0m eta \u001b[36m0:00:00\u001b[0m\n",
            "\u001b[2K   \u001b[90m━━━━━━━━━━━━━━━━━━━━━━━━━━━━━━━━━━━━━━━━\u001b[0m \u001b[32m456.8/456.8 kB\u001b[0m \u001b[31m26.7 MB/s\u001b[0m eta \u001b[36m0:00:00\u001b[0m\n",
            "\u001b[2K   \u001b[90m━━━━━━━━━━━━━━━━━━━━━━━━━━━━━━━━━━━━━━━━\u001b[0m \u001b[32m46.0/46.0 kB\u001b[0m \u001b[31m3.0 MB/s\u001b[0m eta \u001b[36m0:00:00\u001b[0m\n",
            "\u001b[2K   \u001b[90m━━━━━━━━━━━━━━━━━━━━━━━━━━━━━━━━━━━━━━━━\u001b[0m \u001b[32m86.8/86.8 kB\u001b[0m \u001b[31m2.7 MB/s\u001b[0m eta \u001b[36m0:00:00\u001b[0m\n",
            "\u001b[?25h  Building wheel for pypika (pyproject.toml) ... \u001b[?25l\u001b[?25hdone\n",
            "\u001b[31mERROR: pip's dependency resolver does not currently take into account all the packages that are installed. This behaviour is the source of the following dependency conflicts.\n",
            "google-colab 1.0.0 requires requests==2.32.4, but you have requests 2.32.5 which is incompatible.\u001b[0m\u001b[31m\n",
            "\u001b[0m✅ Dependências instaladas com sucesso!\n"
          ]
        }
      ],
      "source": [
        "!pip install -q -U langchain langgraph langchain_google_genai google-generativeai chromadb langchain-community python-dotenv\n",
        "print(\"✅ Dependências instaladas com sucesso!\")"
      ],
      "id": "2_SF7fWqpHBo"
    },
    {
      "cell_type": "markdown",
      "metadata": {
        "id": "hxPNbudKpHBp"
      },
      "source": [
        "### Passo 2: Configuração do Ambiente\n",
        "\n",
        "Nesta etapa, importamos as bibliotecas e configuramos a chave de API do Google, que é necessária para usar o modelo Gemini."
      ],
      "id": "hxPNbudKpHBp"
    },
    {
      "cell_type": "code",
      "execution_count": 2,
      "metadata": {
        "colab": {
          "base_uri": "https://localhost:8080/"
        },
        "id": "UaqUn0W3pHBp",
        "outputId": "89448577-a95c-4741-b772-d1afb5d216fd"
      },
      "outputs": [
        {
          "output_type": "stream",
          "name": "stdout",
          "text": [
            "✅ Chave de API do Google configurada.\n"
          ]
        }
      ],
      "source": [
        "import os\n",
        "import json\n",
        "import re\n",
        "from typing import TypedDict, Optional, Dict, Any, List\n",
        "from google.colab import userdata\n",
        "\n",
        "# LangChain e LangGraph\n",
        "from langchain_core.documents import Document\n",
        "from langchain_core.prompts import ChatPromptTemplate\n",
        "from langchain_google_genai import ChatGoogleGenerativeAI, GoogleGenerativeAIEmbeddings\n",
        "from langchain_community.vectorstores import Chroma\n",
        "from langchain.text_splitter import RecursiveCharacterTextSplitter\n",
        "from langgraph.graph import StateGraph, END\n",
        "\n",
        "# --- PARÂMETROS GLOBAIS ---\n",
        "# Chave de API do Google\n",
        "try:\n",
        "    GOOGLE_API_KEY = userdata.get('GOOGLE_API_KEY')\n",
        "    os.environ[\"GOOGLE_API_KEY\"] = GOOGLE_API_KEY\n",
        "    print(\"✅ Chave de API do Google configurada.\")\n",
        "except Exception as e:\n",
        "    print(\"❌ Chave de API 'GOOGLE_API_KEY' não encontrada. Por favor, configure-a no Google Colab.\")\n",
        "\n",
        "# Configurações do LLM\n",
        "GEMINI_MODEL = \"gemini-2.5-flash\"\n",
        "TEMPERATURE = 0.7\n",
        "\n",
        "# Configurações do Grafo de Agentes\n",
        "MAX_REFINEMENT_ATTEMPTS = 2 # Número máximo de tentativas de refinamento da copy"
      ],
      "id": "UaqUn0W3pHBp"
    },
    {
      "cell_type": "markdown",
      "metadata": {
        "id": "eczSoVfXpHBp"
      },
      "source": [
        "### Passo 3: O Briefing - Nossa Fonte de Verdade\n",
        "\n",
        "Todo o processo começa com um briefing detalhado do produto e da estratégia de lançamento. Este documento JSON é a única fonte de verdade para os nossos agentes de IA."
      ],
      "id": "eczSoVfXpHBp"
    },
    {
      "cell_type": "code",
      "execution_count": 3,
      "metadata": {
        "colab": {
          "base_uri": "https://localhost:8080/"
        },
        "id": "Dy1bQD9XpHBp",
        "outputId": "86ffdf59-fa6f-4095-ed26-6fd09686d5f2"
      },
      "outputs": [
        {
          "output_type": "stream",
          "name": "stdout",
          "text": [
            "✅ Briefing carregado com sucesso!\n"
          ]
        }
      ],
      "source": [
        "# Cole o seu briefing em formato JSON aqui\n",
        "BRIEFING_JSON = r'''\n",
        "{\n",
        "  \"briefing_lancamento\": {\n",
        "    \"infoproduto\": {\n",
        "      \"nome\": \"Mentoria de Desenvolvimento Inteligente\",\n",
        "      \"produtor\": \"Mauricio Issei\",\n",
        "      \"preco\": 999.97,\n",
        "      \"formato\": \"Mentoria Individual\",\n",
        "      \"descricao\": \"Mentoria individual para desenvolver arquiteturas de soluções complexas de software utilizando IA.\"\n",
        "    },\n",
        "    \"publico_alvo\": {\n",
        "      \"demografia\": \"Empreendedores digitais, desenvolvedores de software e profissionais de tecnologia.\",\n",
        "      \"problema_principal\": \"Dificuldade em arquitetar soluções robustas e escaláveis, falta de um método claro para o desenvolvimento, resultando em baixo faturamento e projetos estagnados.\",\n",
        "      \"transformacao_principal\": \"Capacidade de criar soluções de software de alta qualidade e escaláveis do zero, alcançando faturamento de 6 ou 7 dígitos.\",\n",
        "      \"objecoes_comuns\": [\n",
        "        \"Não tenho conhecimento técnico suficiente\",\n",
        "        \"O preço é muito alto para mim\",\n",
        "        \"Não tenho tempo para aplicar o método\"\n",
        "      ]\n",
        "    },\n",
        "    \"posicionamento\": {\n",
        "      \"diferencial_competitivo\": \"Único método que combina estratégia de arquitetura de soluções de software com o poder do desenvolvimento acelerado por ferramentas de IA.\",\n",
        "      \"tom_de_voz\": \"Autoridade, inspirador e prático.\",\n",
        "      \"gatilhos_mentais\": [\n",
        "        \"Autoridade\",\n",
        "        \"Prova Social\",\n",
        "        \"Escassez\",\n",
        "        \"Reciprocidade\"\n",
        "      ]\n",
        "    },\n",
        "    \"estrategia_lancamento\": {\n",
        "      \"tipo_lancamento\": \"Semente\",\n",
        "      \"meta_campanha\": \"Vender 50 unidades e faturar R$ 50.000\",\n",
        "      \"datas_chave\": {\n",
        "        \"inicio_campanha\": \"2025-09-15\",\n",
        "        \"abertura_carrinho\": \"2025-09-22\",\n",
        "        \"fechamento_carrinho\": \"2025-09-29\"\n",
        "      },\n",
        "      \"canais\": [\n",
        "        \"Email Marketing\",\n",
        "        \"Meta Ads\",\n",
        "        \"Instagram Stories\",\n",
        "        \"YouTube (VSL)\"\n",
        "      ]\n",
        "    }\n",
        "  }\n",
        "}\n",
        "'''\n",
        "\n",
        "# Carrega o JSON em um dicionário Python\n",
        "briefing = json.loads(BRIEFING_JSON)\n",
        "print(\"✅ Briefing carregado com sucesso!\")"
      ],
      "id": "Dy1bQD9XpHBp"
    },
    {
      "cell_type": "markdown",
      "metadata": {
        "id": "yhdtZ8abpHBq"
      },
      "source": [
        "### Passo 4: Configuração do RAG com Vetorização Local\n",
        "\n",
        "Para que nossos agentes possam \"consultar\" o briefing de forma inteligente, vamos criar uma base de conhecimento vetorial local usando o ChromaDB."
      ],
      "id": "yhdtZ8abpHBq"
    },
    {
      "cell_type": "markdown",
      "metadata": {
        "id": "NUjB6iuwpHBq"
      },
      "source": [
        "#### 4.1. Preparação e Indexação do Briefing\n",
        "\n",
        "Primeiro, convertemos o briefing de JSON para um formato de texto limpo. Em seguida, dividimos esse texto em pedaços menores (chunks) e os indexamos no ChromaDB."
      ],
      "id": "NUjB6iuwpHBq"
    },
    {
      "cell_type": "code",
      "execution_count": 4,
      "metadata": {
        "colab": {
          "base_uri": "https://localhost:8080/"
        },
        "id": "AN4mQs3upHBq",
        "outputId": "4fc36e30-1397-4461-d97f-459639d14251"
      },
      "outputs": [
        {
          "output_type": "stream",
          "name": "stderr",
          "text": [
            "/tmp/ipython-input-1372927057.py:48: LangChainDeprecationWarning: The class `Chroma` was deprecated in LangChain 0.2.9 and will be removed in 1.0. An updated version of the class exists in the :class:`~langchain-chroma package and should be used instead. To use it run `pip install -U :class:`~langchain-chroma` and import as `from :class:`~langchain_chroma import Chroma``.\n",
            "  vectorstore = Chroma(persist_directory=\"./chroma_db\", embedding_function=embeddings)\n"
          ]
        },
        {
          "output_type": "stream",
          "name": "stdout",
          "text": [
            "✅ Briefing indexado localmente em 2 chunks no ChromaDB.\n"
          ]
        }
      ],
      "source": [
        "def canonicalize_briefing_to_text(briefing_dict: Dict[str, Any]) -> str:\n",
        "    \"\"\"Converte o dicionário de briefing em um texto estruturado.\"\"\"\n",
        "    b = briefing_dict.get(\"briefing_lancamento\", {})\n",
        "    inf = b.get(\"infoproduto\", {})\n",
        "    pub = b.get(\"publico_alvo\", {})\n",
        "    pos = b.get(\"posicionamento\", {})\n",
        "    est = b.get(\"estrategia_lancamento\", {})\n",
        "    datas = est.get(\"datas_chave\", {})\n",
        "\n",
        "    linhas = [\n",
        "        \"# Briefing de Lançamento — Canonicalizado\",\n",
        "        \"## Produto\",\n",
        "        f\"Nome: {inf.get('nome','')} | Produtor: {inf.get('produtor','')} | Preço: {inf.get('preco','')} | Formato: {inf.get('formato','')}\",\n",
        "        f\"Descrição: {inf.get('descricao','')}\",\n",
        "        \"\\n## Público-alvo & Persona\",\n",
        "        f\"Demografia/Psicografia: {pub.get('demografia','')}\",\n",
        "        f\"Dor principal: {pub.get('problema_principal','')}\",\n",
        "        f\"Transformação: {pub.get('transformacao_principal','')}\",\n",
        "    ]\n",
        "    if pub.get(\"objecoes_comuns\"):\n",
        "        linhas.append(\"Objeções comuns:\")\n",
        "        for o in pub[\"objecoes_comuns\"]:\n",
        "            linhas.append(f\"- {o}\")\n",
        "\n",
        "    linhas.extend([\n",
        "        \"\\n## Posicionamento & Diferencial\",\n",
        "        f\"USP: {pos.get('diferencial_competitivo','')}\",\n",
        "        f\"Tom de voz: {pos.get('tom_de_voz','')}\",\n",
        "    ])\n",
        "    if pos.get(\"gatilhos_mentais\"):\n",
        "        linhas.append(\"Gatilhos prioritários: \" + \", \".join(pos[\"gatilhos_mentais\"]))\n",
        "\n",
        "    linhas.extend([\n",
        "        \"\\n## Estratégia de Lançamento\",\n",
        "        f\"Tipo: {est.get('tipo_lancamento','')} | Meta: {est.get('meta_campanha','')}\",\n",
        "        f\"Período/Datas: início={datas.get('inicio_campanha','')} | abertura={datas.get('abertura_carrinho','')} | fechamento={datas.get('fechamento_carrinho','')}\",\n",
        "    ])\n",
        "    if est.get(\"canais\"):\n",
        "        linhas.append(\"Canais: \" + \", \".join(est[\"canais\"]))\n",
        "\n",
        "    return \"\\n\".join(linhas)\n",
        "\n",
        "# 1. Converter o briefing para texto\n",
        "canonical_text = canonicalize_briefing_to_text(briefing)\n",
        "\n",
        "# 2. Configurar o modelo de embedding e o ChromaDB\n",
        "embeddings = GoogleGenerativeAIEmbeddings(model=\"models/embedding-001\")\n",
        "vectorstore = Chroma(persist_directory=\"./chroma_db\", embedding_function=embeddings)\n",
        "\n",
        "# 3. Dividir o texto em chunks e indexar\n",
        "text_splitter = RecursiveCharacterTextSplitter(chunk_size=1000, chunk_overlap=150)\n",
        "docs = text_splitter.create_documents([canonical_text])\n",
        "vectorstore.add_documents(docs)\n",
        "\n",
        "print(f\"✅ Briefing indexado localmente em {len(docs)} chunks no ChromaDB.\")"
      ],
      "id": "AN4mQs3upHBq"
    },
    {
      "cell_type": "markdown",
      "metadata": {
        "id": "Eq7YArA8pHBq"
      },
      "source": [
        "#### 4.2. Criação do Retriever\n",
        "\n",
        "O retriever é o componente que efetivamente busca as informações na nossa base vetorial."
      ],
      "id": "Eq7YArA8pHBq"
    },
    {
      "cell_type": "code",
      "execution_count": 5,
      "metadata": {
        "colab": {
          "base_uri": "https://localhost:8080/"
        },
        "id": "aHZckMvupHBq",
        "outputId": "52204399-b696-4fe9-8ddc-673e30126c37"
      },
      "outputs": [
        {
          "output_type": "stream",
          "name": "stderr",
          "text": [
            "/tmp/ipython-input-891086149.py:14: LangChainDeprecationWarning: The method `BaseRetriever.get_relevant_documents` was deprecated in langchain-core 0.1.46 and will be removed in 1.0. Use :meth:`~invoke` instead.\n",
            "  relevant_docs = retriever.get_relevant_documents(query)\n"
          ]
        },
        {
          "output_type": "stream",
          "name": "stdout",
          "text": [
            "--- Contexto RAG Gerado ---\n",
            "[Fonte: doc1]\n",
            "# Briefing de Lançamento — Canonicalizado\n",
            "## Produto\n",
            "Nome: Mentoria de Desenvolvimento Inteligente | Produtor: Mauricio Issei | Preço: 999.97 | Formato: Mentoria Individual\n",
            "Descrição: Mentoria individual para desenvolver arquiteturas de soluções complexas de software utilizando IA.\n",
            "\n",
            "## Público-alvo & Persona\n",
            "Demografia/Psicografia: Empreendedores digitais, desenvolvedores de software e profissionais de tecnologia.\n",
            "Dor principal: Dificuldade em arquitetar soluções robustas e escaláveis, falta de um método claro para o desenvolvimento, resultando em baixo faturamento e projetos estagnados.\n",
            "Transformação: Capacidade de criar soluções de software de alta qualidade e escaláveis do zero, alcançando faturamento de 6 ou 7 dígitos.\n",
            "Objeções comuns:\n",
            "- Não tenho conhecimento técnico suficiente\n",
            "- O preço é muito alto para mim\n",
            "- Não tenho tempo para aplicar o método\n",
            "\n",
            "[Fonte: doc2]\n",
            "## Posicionamento & Diferencial\n",
            "USP: Único método que combina estratégia de arquitetura de soluções de software com o poder do desenvolvimento acelerado por ferramentas de IA.\n",
            "Tom de voz: Autoridade, inspirador e prático.\n",
            "Gatilhos prioritários: Autoridade, Prova Social, Escassez, Reciprocidade\n",
            "\n",
            "## Estratégia de Lançamento\n",
            "Tipo: Semente | Meta: Vender 50 unidades e faturar R$ 50.000\n",
            "Período/Datas: início=2025-09-15 | abertura=2025-09-22 | fechamento=2025-09-29\n",
            "Canais: Email Marketing, Meta Ads, Instagram Stories, YouTube (VSL)\n",
            "---------------------------\n"
          ]
        }
      ],
      "source": [
        "# Cria um retriever a partir do vector store\n",
        "retriever = vectorstore.as_retriever()\n",
        "\n",
        "def join_docs(docs: List[Document]) -> str:\n",
        "    \"\"\"Formata os documentos recuperados em uma string única.\"\"\"\n",
        "    return \"\\n\\n\".join(f\"[Fonte: doc{i+1}]\\n{doc.page_content}\" for i, doc in enumerate(docs))\n",
        "\n",
        "def build_rag_context(briefing_dict: Dict[str, Any]) -> str:\n",
        "    \"\"\"Busca informações relevantes no RAG local com base no briefing.\"\"\"\n",
        "    pub = briefing_dict.get(\"briefing_lancamento\", {}).get(\"publico_alvo\", {})\n",
        "    query = pub.get(\"problema_principal\", \"briefing do produto\") # Usa o problema principal como query\n",
        "\n",
        "    # Busca os documentos relevantes\n",
        "    relevant_docs = retriever.get_relevant_documents(query)\n",
        "\n",
        "    # Formata e retorna o contexto\n",
        "    return join_docs(relevant_docs)\n",
        "\n",
        "# Teste rápido do RAG\n",
        "rag_context = build_rag_context(briefing)\n",
        "print(\"--- Contexto RAG Gerado ---\")\n",
        "print(rag_context)\n",
        "print(\"---------------------------\")"
      ],
      "id": "aHZckMvupHBq"
    },
    {
      "cell_type": "markdown",
      "metadata": {
        "id": "8_75Fe1ypHBr"
      },
      "source": [
        "### Passo 5: Construção da Equipe de Agentes de IA\n",
        "\n",
        "Agora, vamos definir a estrutura e as responsabilidades de cada agente na nossa equipe de IA."
      ],
      "id": "8_75Fe1ypHBr"
    },
    {
      "cell_type": "markdown",
      "metadata": {
        "id": "EuCtGgc-pHBr"
      },
      "source": [
        "#### 5.1. Definição do Estado Compartilhado\n",
        "\n",
        "O `AgentState` é um dicionário que funciona como a memória compartilhada entre todos os agentes. Cada agente pode ler e escrever informações neste estado."
      ],
      "id": "EuCtGgc-pHBr"
    },
    {
      "cell_type": "code",
      "execution_count": 6,
      "metadata": {
        "colab": {
          "base_uri": "https://localhost:8080/"
        },
        "id": "QBPBiEbMpHBr",
        "outputId": "fe38d0a7-7b18-4a2b-f727-f96baf6ff6b9"
      },
      "outputs": [
        {
          "output_type": "stream",
          "name": "stdout",
          "text": [
            "✅ Estrutura de estado (AgentState) definida.\n"
          ]
        }
      ],
      "source": [
        "class AgentState(TypedDict):\n",
        "    \"\"\"Define a estrutura de dados (estado) compartilhada entre os nós do grafo.\"\"\"\n",
        "    briefing: Dict\n",
        "    contexto_rag: str\n",
        "    dores_promessas: Optional[Dict]\n",
        "    objecoes_quebras: Optional[Dict]\n",
        "    headlines_angulos: Optional[Dict]\n",
        "    contexto_enriquecido: Optional[str]\n",
        "    copy_por_canal: Optional[Dict]\n",
        "    revisao_critico: Optional[str]\n",
        "    tentativas_refinamento: int\n",
        "\n",
        "print(\"✅ Estrutura de estado (AgentState) definida.\")"
      ],
      "id": "QBPBiEbMpHBr"
    },
    {
      "cell_type": "markdown",
      "metadata": {
        "id": "6DNPq0VepHBr"
      },
      "source": [
        "#### 5.2. Criação dos Prompts e Cadeias (Cérebro dos Agentes)\n",
        "\n",
        "Cada agente é movido por um LLM (o Gemini) e um prompt específico que define sua tarefa. A combinação do prompt com o LLM é chamada de \"cadeia\" (chain)."
      ],
      "id": "6DNPq0VepHBr"
    },
    {
      "cell_type": "code",
      "execution_count": 7,
      "metadata": {
        "colab": {
          "base_uri": "https://localhost:8080/"
        },
        "id": "prnRm_2XpHBr",
        "outputId": "0647dec8-88ae-45a5-db29-5cc2cfe097a4"
      },
      "outputs": [
        {
          "output_type": "stream",
          "name": "stdout",
          "text": [
            "✅ Cérebros (prompts e cadeias) de todos os agentes criados.\n"
          ]
        }
      ],
      "source": [
        "# Inicializa o LLM que será usado por todos os agentes\n",
        "llm = ChatGoogleGenerativeAI(model=GEMINI_MODEL, temperature=TEMPERATURE)\n",
        "\n",
        "# Base do prompt do sistema para todos os agentes\n",
        "SYSTEM_BASE = (\n",
        "    \"Você é um membro de uma equipe de marketing de elite especialista em copy para lançamentos de infoprodutos. \"\n",
        "    \"Sua resposta deve ser sempre um bloco de código JSON, sem nenhum texto adicional antes ou depois. \"\n",
        "    \"Utilize o tom de voz definido no briefing. Foque em clareza, estratégia e em gerar ativos prontos para usar. \"\n",
        "    \"Respeite a persona (dores, desejos) e o posicionamento (USP) do produto.\"\n",
        ")\n",
        "\n",
        "def force_json(llm_output: Any) -> Dict:\n",
        "    \"\"\"Extrai e parseia de forma robusta um bloco JSON da saída do LLM.\"\"\"\n",
        "    content_str = llm_output.content if hasattr(llm_output, 'content') else str(llm_output)\n",
        "\n",
        "    match = re.search(r\"```json\\s*([\\s\\S]*?)\\s*```\", content_str)\n",
        "    json_str = match.group(1) if match else content_str\n",
        "\n",
        "    try:\n",
        "        return json.loads(json_str)\n",
        "    except json.JSONDecodeError:\n",
        "        return {\"error\": \"Falha ao decodificar JSON\", \"raw_content\": json_str}\n",
        "\n",
        "# --- Cadeia do Agente 1: Dores & Promessas ---\n",
        "prompt_dores = ChatPromptTemplate.from_messages([\n",
        "    (\"system\", SYSTEM_BASE + \" Extraia as dores mais profundas do público e as promessas de transformação mais impactantes. Retorne um JSON com chaves 'dores' e 'promessas'.\"),\n",
        "    (\"human\", \"Briefing:\\n{briefing}\\n\\nContexto Adicional (RAG):\\n{contexto}\")\n",
        "])\n",
        "chain_dores = prompt_dores | llm\n",
        "\n",
        "# --- Cadeia do Agente 2: Objeções & Quebras ---\n",
        "prompt_objecoes = ChatPromptTemplate.from_messages([\n",
        "    (\"system\", SYSTEM_BASE + \" Liste as objeções mais prováveis do público e crie quebras de objeção persuasivas. Retorne um JSON com chaves 'objecoes' e 'quebras'.\"),\n",
        "    (\"human\", \"Briefing:\\n{briefing}\\n\\nContexto Adicional (RAG):\\n{contexto}\")\n",
        "])\n",
        "chain_objecoes = prompt_objecoes | llm\n",
        "\n",
        "# --- Cadeia do Agente 3: Headlines & Ângulos ---\n",
        "prompt_headlines = ChatPromptTemplate.from_messages([\n",
        "    (\"system\", SYSTEM_BASE + \" Crie headlines magnéticas e ângulos de comunicação criativos para os anúncios e emails. Retorne um JSON com chaves 'headlines' e 'angulos'.\"),\n",
        "    (\"human\", \"Briefing:\\n{briefing}\\n\\nContexto Adicional (RAG):\\n{contexto}\")\n",
        "])\n",
        "chain_headlines = prompt_headlines | llm\n",
        "\n",
        "# --- Cadeia do Agente 4: Adaptador de Canais ---\n",
        "prompt_canais = ChatPromptTemplate.from_messages([\n",
        "    (\"system\", SYSTEM_BASE + \" Adapte a mensagem para os canais de comunicação, criando a copy final. Se receber um feedback de revisão, aplique as melhorias. Retorne um JSON com chaves 'email', 'stories', 'ads', 'vsl'.\"),\n",
        "    (\"human\", \"Briefing Original:\\n{briefing}\\n\\nContexto Enriquecido (Análises dos outros agentes):\\n{contexto_enriquecido}\\n\\nFeedback de Revisão Anterior (se houver):\\n{revisao_critico}\")\n",
        "])\n",
        "chain_canais = prompt_canais | llm\n",
        "\n",
        "# --- Cadeia do Agente 5: Crítico Revisor ---\n",
        "prompt_critico = ChatPromptTemplate.from_messages([\n",
        "    (\"system\", \"Você é um CRÍTICO DE MARKETING sênior e exigente. Sua tarefa é revisar a copy gerada. Se estiver excelente, responda apenas 'APROVADO'. Se precisar de ajustes, responda 'REFINAR:' seguido por uma lista de pontos específicos e acionáveis.\"),\n",
        "    (\"human\", \"Briefing Original:\\n{briefing}\\n\\nCopy Gerada para Revisão:\\n{copy_por_canal}\")\n",
        "])\n",
        "chain_critico = prompt_critico | llm\n",
        "\n",
        "print(\"✅ Cérebros (prompts e cadeias) de todos os agentes criados.\")"
      ],
      "id": "prnRm_2XpHBr"
    },
    {
      "cell_type": "markdown",
      "metadata": {
        "id": "Xbn1kW1FpHBr"
      },
      "source": [
        "### Passo 6: Orquestração do Fluxo de Trabalho com LangGraph\n",
        "\n",
        "Agora, vamos montar o nosso fluxograma (o grafo), definindo como os agentes interagem entre si."
      ],
      "id": "Xbn1kW1FpHBr"
    },
    {
      "cell_type": "markdown",
      "metadata": {
        "id": "Bnm1zUYTpHBr"
      },
      "source": [
        "#### 6.1. Definição dos Nós do Grafo\n",
        "\n",
        "Cada nó representa um agente (ou uma função lógica) que executa uma tarefa."
      ],
      "id": "Bnm1zUYTpHBr"
    },
    {
      "cell_type": "code",
      "execution_count": 18,
      "metadata": {
        "colab": {
          "base_uri": "https://localhost:8080/"
        },
        "id": "bMOzYPxEpHBr",
        "outputId": "11ff6b4e-6485-4e0a-f190-95994874a3ec"
      },
      "outputs": [
        {
          "output_type": "stream",
          "name": "stdout",
          "text": [
            "✅ Nós do grafo definidos com tratamento de erros aprimorado.\n"
          ]
        }
      ],
      "source": [
        "def node_dores_promessas(state: AgentState) -> Dict[str, Any]:\n",
        "    print(\" Executando nó: Dores & Promessas...\")\n",
        "    result = chain_dores.invoke({\"briefing\": json.dumps(state['briefing']), \"contexto\": state['contexto_rag']})\n",
        "    return {\"dores_promessas\": force_json(result)}\n",
        "\n",
        "def node_objecoes_quebras(state: AgentState) -> Dict[str, Any]:\n",
        "    print(\" Executando nó: Objeções & Quebras...\")\n",
        "    result = chain_objecoes.invoke({\"briefing\": json.dumps(state['briefing']), \"contexto\": state['contexto_rag']})\n",
        "    return {\"objecoes_quebras\": force_json(result)}\n",
        "\n",
        "def node_headlines_angulos(state: AgentState) -> Dict[str, Any]:\n",
        "    print(\" Executando nó: Headlines & Ângulos...\")\n",
        "    result = chain_headlines.invoke({\"briefing\": json.dumps(state['briefing']), \"contexto\": state['contexto_rag']})\n",
        "    return {\"headlines_angulos\": force_json(result)}\n",
        "\n",
        "def node_consolidador(state: AgentState) -> Dict[str, Any]:\n",
        "    print(\" Executando nó: Consolidador de Contexto...\")\n",
        "\n",
        "    # Verificação de erros dos nós anteriores\n",
        "    for key in ['dores_promessas', 'objecoes_quebras', 'headlines_angulos']:\n",
        "        if state.get(key) and 'error' in state[key]:\n",
        "            error_msg = f\"Erro detectado no passo '{key}': {state[key]['error']}\"\n",
        "            print(f\"❌ {error_msg}\")\n",
        "            # Propaga o erro para interromper o fluxo de forma segura\n",
        "            return {\"contexto_enriquecido\": json.dumps({\"error\": error_msg})}\n",
        "\n",
        "    contexto_enriquecido = json.dumps({\n",
        "        \"dores_e_promessas\": state.get('dores_promessas', {}),\n",
        "        \"objecoes_e_quebras\": state.get('objecoes_quebras', {}),\n",
        "        \"headlines_e_angulos\": state.get('headlines_angulos', {})\n",
        "    }, indent=2, ensure_ascii=False)\n",
        "    return {\"contexto_enriquecido\": contexto_enriquecido}\n",
        "\n",
        "def node_adaptacao_canais(state: AgentState) -> Dict[str, Any]:\n",
        "    print(\" Executando nó: Adaptação por Canais...\")\n",
        "\n",
        "    # Verifica se o consolidador encontrou um erro\n",
        "    contexto = state.get('contexto_enriquecido', '{}')\n",
        "    if 'error' in json.loads(contexto):\n",
        "        print(\"❌ Interrompendo adaptação devido a erro anterior.\")\n",
        "        return {\"copy_por_canal\": {\"error\": \"Geração interrompida por erro em passo anterior.\"}}\n",
        "\n",
        "    tentativas = state.get('tentativas_refinamento', 0) + 1\n",
        "    revisao = state.get('revisao_critico') or \"Nenhuma. Esta é a primeira versão.\"\n",
        "    result = chain_canais.invoke({\n",
        "        \"briefing\": json.dumps(state['briefing']),\n",
        "        \"contexto_enriquecido\": contexto,\n",
        "        \"revisao_critico\": revisao\n",
        "    })\n",
        "    return {\"copy_por_canal\": force_json(result), \"tentativas_refinamento\": tentativas}\n",
        "\n",
        "def node_critico_revisor(state: AgentState) -> Dict[str, Any]:\n",
        "    print(\" Executando nó: Crítico Revisor...\")\n",
        "\n",
        "    copy_gerada = state.get('copy_por_canal', {})\n",
        "    if 'error' in copy_gerada:\n",
        "      print(\"❌ Interrompendo revisão. A copy não foi gerada corretamente.\")\n",
        "      return {\"revisao_critico\": \"ERRO_NA_GERACAO\"}\n",
        "\n",
        "    result = chain_critico.invoke({\n",
        "        \"briefing\": json.dumps(state['briefing']),\n",
        "        \"copy_por_canal\": json.dumps(copy_gerada)\n",
        "    })\n",
        "    return {\"revisao_critico\": result.content}\n",
        "\n",
        "# Nó de decisão para o ciclo de revisão (Lógica aprimorada)\n",
        "def decidir_pos_critica(state: AgentState) -> str:\n",
        "    print(\" Executando nó: Decisão Pós-Crítica...\")\n",
        "    revisao = state.get('revisao_critico', '')\n",
        "    tentativas = state.get('tentativas_refinamento', 0)\n",
        "\n",
        "    if \"ERRO_NA_GERACAO\" in revisao:\n",
        "        print(\" Decisão: Erro detectado. Finalizando.\")\n",
        "        return \"end\"\n",
        "    if \"APROVADO\" in revisao:\n",
        "        print(\" Decisão: Copy APROVADA. Finalizando.\")\n",
        "        return \"end\"\n",
        "    if tentativas >= MAX_REFINEMENT_ATTEMPTS:\n",
        "        print(f\" Decisão: Máximo de {MAX_REFINEMENT_ATTEMPTS} tentativas atingido. Finalizando com a versão atual.\")\n",
        "        return \"end\" # Termina mesmo que não aprovado para evitar loop infinito\n",
        "    else:\n",
        "        print(f\" Decisão: Refinar (Tentativa {tentativas + 1}).\")\n",
        "        return \"refinar\"\n",
        "\n",
        "print(\"✅ Nós do grafo definidos com tratamento de erros aprimorado.\")"
      ],
      "id": "bMOzYPxEpHBr"
    },
    {
      "cell_type": "markdown",
      "metadata": {
        "id": "W76z3KRRpHBs"
      },
      "source": [
        "#### 6.2. Montagem e Compilação do Grafo\n",
        "\n",
        "Conectamos os nós para definir a ordem e a lógica de execução."
      ],
      "id": "W76z3KRRpHBs"
    },
    {
      "cell_type": "code",
      "execution_count": 9,
      "metadata": {
        "colab": {
          "base_uri": "https://localhost:8080/"
        },
        "id": "5uzZOhFhpHBs",
        "outputId": "a4ec8250-58cf-4474-8e27-80e95590323c"
      },
      "outputs": [
        {
          "output_type": "stream",
          "name": "stdout",
          "text": [
            "✅ Grafo de agentes construído e compilado com sucesso!\n"
          ]
        }
      ],
      "source": [
        "# Montagem do grafo\n",
        "workflow = StateGraph(AgentState)\n",
        "\n",
        "# Adiciona os nós\n",
        "workflow.add_node(\"analise_dores_promessas\", node_dores_promessas)\n",
        "workflow.add_node(\"analise_objecoes_quebras\", node_objecoes_quebras)\n",
        "workflow.add_node(\"analise_headlines_angulos\", node_headlines_angulos)\n",
        "workflow.add_node(\"consolidador\", node_consolidador)\n",
        "workflow.add_node(\"adaptacao_canais\", node_adaptacao_canais)\n",
        "workflow.add_node(\"critico_revisor\", node_critico_revisor)\n",
        "\n",
        "# Define o ponto de entrada e as arestas (conexões)\n",
        "# A análise inicial ocorre em paralelo\n",
        "workflow.set_entry_point(\"analise_dores_promessas\")\n",
        "workflow.set_entry_point(\"analise_objecoes_quebras\")\n",
        "workflow.set_entry_point(\"analise_headlines_angulos\")\n",
        "\n",
        "# Após a análise paralela, tudo converge para o consolidador\n",
        "workflow.add_edge(\"analise_dores_promessas\", \"consolidador\")\n",
        "workflow.add_edge(\"analise_objecoes_quebras\", \"consolidador\")\n",
        "workflow.add_edge(\"analise_headlines_angulos\", \"consolidador\")\n",
        "\n",
        "# Fluxo principal\n",
        "workflow.add_edge(\"consolidador\", \"adaptacao_canais\")\n",
        "workflow.add_edge(\"adaptacao_canais\", \"critico_revisor\")\n",
        "\n",
        "# Aresta condicional para o ciclo de revisão\n",
        "workflow.add_conditional_edges(\n",
        "    \"critico_revisor\",\n",
        "    decidir_pos_critica,\n",
        "    {\n",
        "        \"refinar\": \"adaptacao_canais\", # Volta para adaptação se precisar refinar\n",
        "        \"end\": END # Termina o fluxo se for aprovado\n",
        "    }\n",
        ")\n",
        "\n",
        "# Compila o workflow\n",
        "app = workflow.compile()\n",
        "print(\"✅ Grafo de agentes construído e compilado com sucesso!\")"
      ],
      "id": "5uzZOhFhpHBs"
    },
    {
      "cell_type": "markdown",
      "metadata": {
        "id": "cczyDi9ZpHBs"
      },
      "source": [
        "### Passo 7: Execução e Resultados\n",
        "\n",
        "Com tudo pronto, vamos executar o nosso grafo de agentes e ver a mágica acontecer!"
      ],
      "id": "cczyDi9ZpHBs"
    },
    {
      "cell_type": "markdown",
      "metadata": {
        "id": "sNWBn2VCpHBs"
      },
      "source": [
        "#### 7.1. Execução do Grafo"
      ],
      "id": "sNWBn2VCpHBs"
    },
    {
      "cell_type": "code",
      "execution_count": 13,
      "metadata": {
        "colab": {
          "base_uri": "https://localhost:8080/"
        },
        "id": "9etiNGvVpHBs",
        "outputId": "2aef9c78-2cbd-4a38-9e38-56ee110d4982"
      },
      "outputs": [
        {
          "output_type": "stream",
          "name": "stdout",
          "text": [
            "🚀 Iniciando a execução do grafo de agentes...\n",
            " Executando nó: Dores & Promessas...\n",
            " Executando nó: Headlines & Ângulos...\n",
            " Executando nó: Objeções & Quebras...\n",
            " Executando nó: Consolidador de Contexto...\n",
            " Executando nó: Adaptação por Canais...\n",
            " Executando nó: Crítico Revisor...\n",
            " Executando nó: Decisão Pós-Crítica...\n",
            " Decisão: Refinar (Tentativa 2).\n",
            " Executando nó: Adaptação por Canais...\n",
            " Executando nó: Crítico Revisor...\n",
            " Executando nó: Decisão Pós-Crítica...\n",
            " Decisão: Copy APROVADA. Finalizando.\n",
            "\n",
            "\n",
            "✅ Execução do grafo concluída!\n"
          ]
        }
      ],
      "source": [
        "# Define o estado inicial para a execução\n",
        "initial_state = AgentState(\n",
        "    briefing=briefing,\n",
        "    contexto_rag=rag_context,\n",
        "    tentativas_refinamento=0\n",
        ")\n",
        "\n",
        "print(\"🚀 Iniciando a execução do grafo de agentes...\")\n",
        "\n",
        "# Invoca o grafo com o estado inicial\n",
        "# O stream de eventos mostra o progresso em tempo real\n",
        "final_copy_state = None\n",
        "for event in app.stream(initial_state):\n",
        "    # O evento que contém a copy final é a saída do nó 'adaptacao_canais'\n",
        "    # Vamos capturar o estado completo desse nó assim que ele for processado\n",
        "    if \"adaptacao_canais\" in event:\n",
        "        final_copy_state = event[\"adaptacao_canais\"]\n",
        "\n",
        "print(\"\\n\\n✅ Execução do grafo concluída!\")"
      ],
      "id": "9etiNGvVpHBs"
    },
    {
      "cell_type": "markdown",
      "metadata": {
        "id": "Mxozz751pHBs"
      },
      "source": [
        "#### 7.2. Inspeção do Resultado Final\n",
        "\n",
        "Vamos analisar a copy final gerada pelos agentes."
      ],
      "id": "Mxozz751pHBs"
    },
    {
      "cell_type": "code",
      "source": [
        "print(final_copy_state)"
      ],
      "metadata": {
        "colab": {
          "base_uri": "https://localhost:8080/"
        },
        "id": "CkB-iBxmezag",
        "outputId": "eb376c85-eac1-47e7-b590-645bf89ae48a"
      },
      "id": "CkB-iBxmezag",
      "execution_count": 16,
      "outputs": [
        {
          "output_type": "stream",
          "name": "stdout",
          "text": [
            "{'copy_por_canal': {'email': {'subject': 'CHEGA de Projetos Estagnados: Arquitete Soluções 6 e 7 Dígitos com a IA ao Seu Lado.', 'body': \"Olá, empreendedor(a) digital e desenvolvedor(a) de elite,\\n\\nVocê se sente frustrado(a) por ver seus projetos de software estagnarem, incapazes de escalar, consumindo tempo e recursos sem gerar o faturamento de 6 ou 7 dígitos que você sabe ser possível?\\n\\nA paralisia constante diante da complexidade, a falta de um método claro para arquitetar soluções robustas, resultando em retrabalho, prazos estourados e a sensação de estar sempre 'apagando incêndios'… Eu sei exatamente como é.\\n\\nEu sou Mauricio Issei, e ao longo da minha jornada, percebi que o que separa a maioria dos profissionais de tecnologia do sucesso exponencial não é a falta de talento, mas a ausência de uma arquitetura inteligente e o uso estratégico das ferramentas certas.\\n\\nÉ por isso que criei a **Mentoria de Desenvolvimento Inteligente** – um programa individual e exclusivo para você dominar a arte de construir soluções de software de alta qualidade e escaláveis do zero, com o poder da Inteligência Artificial.\\n\\n**Com esta mentoria, você irá:**\\n*   **Dominar a Arquitetura de Software com Maestria:** Conceber e construir soluções complexas, robustas e escaláveis com clareza e eficiência.\\n*   **Alavancar a IA para Acelerar Seu Desenvolvimento:** Integrar ferramentas de IA de forma estratégica para otimizar cada etapa do desenvolvimento, entregando projetos de alta qualidade em tempo recorde.\\n*   **Desbloquear um Faturamento de 6 a 7 Dígitos:** Transformar sua capacidade técnica em um motor de lucratividade, arquitetando soluções que geram valor exponencial.\\n*   **Conquistar Autoridade Inquestionável:** Tornar-se a referência em seu nicho, com um método exclusivo que combina estratégia de arquitetura e poder da IA.\\n*   **Criar Soluções à Prova de Futuro:** Desenvolver sistemas que estão preparados para o crescimento e as inovações futuras.\\n*   **Receber Acompanhamento Individualizado e Estratégico:** Soluções sob medida para os seus desafios únicos, com foco total nos seus projetos.\\n\\nProfissionais como você já experimentaram essa transformação, saindo da estagnação para o faturamento de múltiplos dígitos, construindo negócios digitais sólidos e escaláveis. Eles validaram o poder de um método claro e do suporte certo.\\n\\nVocê pode estar pensando: 'Não tenho conhecimento técnico suficiente', 'O preço é muito alto para mim', ou 'Não tenho tempo para aplicar o método'. Eu entendo essas objeções. Mas a verdade é que o que falta é um método claro e um atalho estratégico. A Mentoria de Desenvolvimento Inteligente é desenhada para guiar você do zero, transformando sua dificuldade em habilidade concreta. E se você pensa 'não tenho tempo', lembre-se que o método acelerado por IA da mentoria foi feito para *otimizar seu tempo*, não para consumi-lo, transformando meses de esforço em semanas de progresso. Este é um investimento direto no seu futuro e no seu faturamento, que vale muito mais do que o valor da inscrição.\\n\\nEsta é uma oportunidade **única** de ter um mentor ao seu lado, focando 100% nos seus desafios. Por ser uma mentoria individual, as vagas são **extremamente limitadas** e se encerram no dia **29 de Setembro**. Não perca a chance de transformar sua carreira e seus resultados.\\n\\n**Clique aqui e garanta sua vaga na Mentoria de Desenvolvimento Inteligente:** [Link para a página de vendas]\\n\\nSeu futuro em software começa agora.\\n\\nCom autoridade e estratégia,\\nMauricio Issei\"}, 'stories': [{'slide_1': {'visual': 'Gráfico de projeto estagnado ou pessoa frustrada', 'copy': 'Seus projetos de software estão estagnados? 📉'}}, {'slide_2': {'visual': 'Pessoa confusa com diagramas complexos', 'copy': 'Complexidade sem método = baixo faturamento. Frustrante, né?'}}, {'slide_3': {'visual': 'Representação visual de IA otimizando código ou arquitetura', 'copy': 'Imagine arquitetar soluções robustas, escaláveis... com a IA ao seu lado. 🚀'}}, {'slide_4': {'visual': 'Gráfico de faturamento em alta, pessoa sorrindo', 'copy': 'Chega de retrabalho! Fature 6, 7 dígitos com o MÉTODO INTELIGENTE.'}}, {'slide_5': {'visual': 'Mauricio Issei em pose de autoridade', 'copy': 'Mauricio Issei, sua bússola para o sucesso em software.'}}, {'slide_6': {'visual': \"Depoimento curto ou ícone de 'check'\", 'copy': 'Resultados comprovados por quem já escalou! Veja como outros profissionais estão transformando seus projetos. ✨'}}, {'slide_7': {'visual': \"Contagem regressiva ou 'Últimas Vagas'\", 'copy': 'Mentoria Individual. Vagas LIMITADAS. Garanta sua vaga AGORA! ⏳\\n[SWIPE UP]'}}], 'ads': [{'headline': 'Chega de Projetos Estagnados: Arquitete Soluções 6 e 7 Dígitos com a IA.', 'primary_text': 'Cansado de ver suas ideias de software não saírem do papel ou não escalarem? A Mentoria de Desenvolvimento Inteligente do Mauricio Issei te dá o método exclusivo para construir soluções robustas, aceleradas por IA, e desbloquear um faturamento exponencial. Profissionais já estão transformando seus projetos. Clique e saiba como.', 'link_description': 'Últimas Vagas para a Mentoria Individual.'}, {'headline': 'IA + Arquitetura: O Segredo para Soluções de Software Imbatíveis.', 'primary_text': 'Quer construir sistemas complexos de forma eficiente e escalável? Mauricio Issei te guia na única metodologia que une estratégia de arquitetura com o poder da IA. Desenvolva do zero ao 6/7 dígitos. Comprovado por quem já aplicou. Garanta sua vaga!', 'link_description': 'Acelere seu Desenvolvimento com IA.'}, {'headline': 'Mauricio Issei Revela: O Método Inteligente para Faturar Múltiplos Dígitos.', 'primary_text': 'Sua expertise técnica não está gerando o lucro que deveria? Na Mentoria Individual, você vai dominar a arquitetura de soluções de software e usar a IA para criar projetos de alto impacto e lucratividade. Junte-se aos que já estão no topo. Vagas Limitadas!', 'link_description': 'Sua Rota para Soluções de Elite.'}], 'vsl': {'script': [{'time': '00:00 - 00:30', 'segment': 'Abertura e Hook (Dor)', 'copy': 'Seus projetos de software não escalam? Você se sente preso na complexidade e o faturamento não decola? Se você é um empreendedor digital, desenvolvedor ou profissional de tecnologia ambicioso, mas se vê lutando para transformar suas grandes ideias em soluções robustas e lucrativas, preste muita atenção nos próximos minutos.'}, {'time': '00:30 - 01:30', 'segment': 'Amplificação do Problema', 'copy': 'A frustração de ver seu potencial técnico virar retrabalho. A paralisia diante da complexidade, sem um método claro para arquitetar soluções que realmente funcionem e escalem. O medo de ser superado pela velocidade da inovação, especialmente com a IA, e a preocupação de que seus conhecimentos atuais não são suficientes para construir o futuro. Você sabe que tem a capacidade de faturar 6 ou 7 dígitos, mas seus projetos atuais simplesmente não chegam lá. Isso te consome tempo, energia e, o pior, oportunidades.'}, {'time': '01:30 - 02:30', 'segment': 'A Revelação (A Nova Oportunidade)', 'copy': 'Mas e se eu te dissesse que existe um caminho claro? Um método validado que combina a solidez da arquitetura de software com o poder incomparável do desenvolvimento acelerado por Inteligência Artificial? Um atalho estratégico para você construir soluções de elite, escaláveis, à prova de futuro e que realmente geram um faturamento exponencial.'}, {'time': '02:30 - 03:30', 'segment': 'Autoridade e Credibilidade (Mauricio Issei)', 'copy': 'Eu sou Mauricio Issei, e passei anos desenvolvendo e validando exatamente esse método. Ajudei inúmeros profissionais a superarem a barreira da complexidade, transformando suas visões em realidade digital. Não falo de teoria, mas de prática e resultados comprovados. Eu entendo o que você passa, e sei como te tirar dessa estagnação.'}, {'time': '03:30 - 05:00', 'segment': 'Benefícios e Transformação Detalhada (com USP)', 'copy': 'Com a minha Mentoria de Desenvolvimento Inteligente, você vai:\\n*   **Dominar a Arquitetura de Software com Maestria:** Conceba e construa soluções complexas, robustas e escaláveis do zero, com uma clareza e eficiência que poucos alcançam.\\n*   **Alavancar a IA para Acelerar Seu Desenvolvimento:** Aprenda a integrar ferramentas de Inteligência Artificial de forma estratégica para otimizar cada etapa do desenvolvimento, entregando projetos de alta qualidade em tempo recorde e com menos esforço.\\n*   **Desbloquear um Faturamento de 6 a 7 Dígitos:** Transforme sua capacidade técnica em um motor de lucratividade, arquitetando soluções que não apenas funcionam, mas geram valor exponencial, posicionando você no topo do mercado.\\n*   **Conquistar Autoridade Inquestionável:** Torne-se a referência em seu nicho, com um método exclusivo que combina estratégia de arquitetura e poder da IA.\\n*   **Criar Soluções à Prova de Futuro:** Desenvolva sistemas que não apenas atendem às demandas atuais, mas estão preparados para o crescimento e as inovações futuras, garantindo a longevidade e o sucesso dos seus empreendimentos.'}, {'time': '05:00 - 06:00', 'segment': 'Prova Social / Casos de Sucesso (Genéricos para Semente)', 'copy': 'Não sou só eu que digo... Profissionais que aplicaram princípios similares de arquitetura inteligente e aceleração por IA já viram seus projetos decolarem, saindo do zero para faturamentos exponenciais. Eles transformaram a estagnação em autoridade e lucro, construindo soluções que antes pareciam impossíveis. Se eles conseguiram, você também pode. A prova está nos resultados de quem decide agir com inteligência.'}, {'time': '06:00 - 08:00', 'segment': 'Quebra de Objeções (Detalhada)', 'copy': \"Talvez você esteja pensando: 'Não tenho conhecimento técnico suficiente'. Muitos acreditam que para dominar a arquitetura de software e a IA é preciso ser um gênio. Mas a verdade é que o que falta é um *método claro*. Minha mentoria é desenhada para guiar você do zero, transformando sua dificuldade em uma habilidade concreta. Não se trata de pré-requisitos, mas de capacidade de aprendizado e aplicação estratégica.\\nOu talvez: 'O preço é muito alto para mim'. Entendo que R$ 999,97 possa parecer um investimento. Mas qual o *custo real* de manter seus projetos estagnados, de perder oportunidades de faturar 6 ou 7 dígitos por não ter soluções escaláveis? Esta não é apenas uma 'compra', é um *investimento direto no seu futuro e no seu faturamento*. Pense na mentoria individual como um atalho estratégico: você terá o meu acompanhamento direto para arquitetar soluções que valem muito mais que esse valor.\\nE a clássica: 'Não tenho tempo para aplicar o método'. A falta de tempo é uma das maiores armadilhas para empreendedores e desenvolvedores. E, ironicamente, ela é muitas vezes causada pela *falta de um método eficiente*. Minha mentoria não vai 'tomar' seu tempo; ela vai *otimizá-lo e multiplicá-lo*. Nosso método, acelerado por IA, foi criado justamente para que você construa soluções robustas em *menos tempo*. Invista um pequeno tempo agora para *ganhar meses ou até anos* de produtividade e faturamento no futuro.\"}, {'time': '08:00 - 09:30', 'segment': 'Apresentando a Mentoria de Desenvolvimento Inteligente (Oferta)', 'copy': 'É por isso que criei a **Mentoria de Desenvolvimento Inteligente**. Este não é apenas um curso, é um programa de acompanhamento personalizado, onde eu vou te guiar passo a passo na criação de soluções de software complexas e escaláveis, utilizando o poder da IA. Você terá acesso ao meu método exclusivo, meus frameworks, minhas estratégias e, o mais importante, o meu tempo e a minha expertise dedicados a você. Um acompanhamento 1-a-1, direcionado exclusivamente às suas necessidades e desafios, garantindo que cada passo seja para o SEU sucesso. É a personalização que você precisa para resultados reais.'}, {'time': '09:30 - 10:30', 'segment': 'Preço e Justificativa (Valor vs. Preço)', 'copy': 'O valor real de uma mentoria individual como esta, com acesso direto a anos de experiência e um método que pode gerar múltiplos dígitos de faturamento, poderia facilmente custar R$10.000 ou mais. Mas, para esta turma de lançamento semente, e porque quero ver você alcançar esses resultados, você terá acesso por apenas **R$ 999,97**.'}, {'time': '10:30 - 11:30', 'segment': 'Escassez e Urgência', 'copy': 'Mas atenção: por ser uma mentoria individual e com o meu acompanhamento direto, as vagas são **EXTREMAMENTE limitadas**. Apenas 50 profissionais terão essa oportunidade de transformar seus projetos e faturamento. E o carrinho fecha em **29 de Setembro**. Esta é a sua janela. Não haverá outra chance como esta tão cedo.'}, {'time': '11:30 - 12:00', 'segment': 'Chamada para Ação Final', 'copy': 'A decisão é sua. Continuar na estagnação, perdendo tempo e dinheiro, ou investir no método que vai te levar ao próximo nível? Clique no botão abaixo AGORA e garanta sua vaga na Mentoria de Desenvolvimento Inteligente. Não deixe a estagnação roubar seu futuro. Comece a construir soluções de elite e um faturamento exponencial hoje!'}]}}, 'tentativas_refinamento': 2}\n"
          ]
        }
      ]
    },
    {
      "cell_type": "code",
      "execution_count": 19,
      "metadata": {
        "id": "vKitB6tupHBs",
        "colab": {
          "base_uri": "https://localhost:8080/"
        },
        "outputId": "f6c148f7-2a65-4291-bc20-018631b74edf"
      },
      "outputs": [
        {
          "output_type": "stream",
          "name": "stdout",
          "text": [
            "--- ✅ COPY FINAL GERADA ---\n",
            "{\n",
            "  \"email\": {\n",
            "    \"subject\": \"CHEGA de Projetos Estagnados: Arquitete Soluções 6 e 7 Dígitos com a IA ao Seu Lado.\",\n",
            "    \"body\": \"Olá, empreendedor(a) digital e desenvolvedor(a) de elite,\\n\\nVocê se sente frustrado(a) por ver seus projetos de software estagnarem, incapazes de escalar, consumindo tempo e recursos sem gerar o faturamento de 6 ou 7 dígitos que você sabe ser possível?\\n\\nA paralisia constante diante da complexidade, a falta de um método claro para arquitetar soluções robustas, resultando em retrabalho, prazos estourados e a sensação de estar sempre 'apagando incêndios'… Eu sei exatamente como é.\\n\\nEu sou Mauricio Issei, e ao longo da minha jornada, percebi que o que separa a maioria dos profissionais de tecnologia do sucesso exponencial não é a falta de talento, mas a ausência de uma arquitetura inteligente e o uso estratégico das ferramentas certas.\\n\\nÉ por isso que criei a **Mentoria de Desenvolvimento Inteligente** – um programa individual e exclusivo para você dominar a arte de construir soluções de software de alta qualidade e escaláveis do zero, com o poder da Inteligência Artificial.\\n\\n**Com esta mentoria, você irá:**\\n*   **Dominar a Arquitetura de Software com Maestria:** Conceber e construir soluções complexas, robustas e escaláveis com clareza e eficiência.\\n*   **Alavancar a IA para Acelerar Seu Desenvolvimento:** Integrar ferramentas de IA de forma estratégica para otimizar cada etapa do desenvolvimento, entregando projetos de alta qualidade em tempo recorde.\\n*   **Desbloquear um Faturamento de 6 a 7 Dígitos:** Transformar sua capacidade técnica em um motor de lucratividade, arquitetando soluções que geram valor exponencial.\\n*   **Conquistar Autoridade Inquestionável:** Tornar-se a referência em seu nicho, com um método exclusivo que combina estratégia de arquitetura e poder da IA.\\n*   **Criar Soluções à Prova de Futuro:** Desenvolver sistemas que estão preparados para o crescimento e as inovações futuras.\\n*   **Receber Acompanhamento Individualizado e Estratégico:** Soluções sob medida para os seus desafios únicos, com foco total nos seus projetos.\\n\\nProfissionais como você já experimentaram essa transformação, saindo da estagnação para o faturamento de múltiplos dígitos, construindo negócios digitais sólidos e escaláveis. Eles validaram o poder de um método claro e do suporte certo.\\n\\nVocê pode estar pensando: 'Não tenho conhecimento técnico suficiente', 'O preço é muito alto para mim', ou 'Não tenho tempo para aplicar o método'. Eu entendo essas objeções. Mas a verdade é que o que falta é um método claro e um atalho estratégico. A Mentoria de Desenvolvimento Inteligente é desenhada para guiar você do zero, transformando sua dificuldade em habilidade concreta. E se você pensa 'não tenho tempo', lembre-se que o método acelerado por IA da mentoria foi feito para *otimizar seu tempo*, não para consumi-lo, transformando meses de esforço em semanas de progresso. Este é um investimento direto no seu futuro e no seu faturamento, que vale muito mais do que o valor da inscrição.\\n\\nEsta é uma oportunidade **única** de ter um mentor ao seu lado, focando 100% nos seus desafios. Por ser uma mentoria individual, as vagas são **extremamente limitadas** e se encerram no dia **29 de Setembro**. Não perca a chance de transformar sua carreira e seus resultados.\\n\\n**Clique aqui e garanta sua vaga na Mentoria de Desenvolvimento Inteligente:** [Link para a página de vendas]\\n\\nSeu futuro em software começa agora.\\n\\nCom autoridade e estratégia,\\nMauricio Issei\"\n",
            "  },\n",
            "  \"stories\": [\n",
            "    {\n",
            "      \"slide_1\": {\n",
            "        \"visual\": \"Gráfico de projeto estagnado ou pessoa frustrada\",\n",
            "        \"copy\": \"Seus projetos de software estão estagnados? 📉\"\n",
            "      }\n",
            "    },\n",
            "    {\n",
            "      \"slide_2\": {\n",
            "        \"visual\": \"Pessoa confusa com diagramas complexos\",\n",
            "        \"copy\": \"Complexidade sem método = baixo faturamento. Frustrante, né?\"\n",
            "      }\n",
            "    },\n",
            "    {\n",
            "      \"slide_3\": {\n",
            "        \"visual\": \"Representação visual de IA otimizando código ou arquitetura\",\n",
            "        \"copy\": \"Imagine arquitetar soluções robustas, escaláveis... com a IA ao seu lado. 🚀\"\n",
            "      }\n",
            "    },\n",
            "    {\n",
            "      \"slide_4\": {\n",
            "        \"visual\": \"Gráfico de faturamento em alta, pessoa sorrindo\",\n",
            "        \"copy\": \"Chega de retrabalho! Fature 6, 7 dígitos com o MÉTODO INTELIGENTE.\"\n",
            "      }\n",
            "    },\n",
            "    {\n",
            "      \"slide_5\": {\n",
            "        \"visual\": \"Mauricio Issei em pose de autoridade\",\n",
            "        \"copy\": \"Mauricio Issei, sua bússola para o sucesso em software.\"\n",
            "      }\n",
            "    },\n",
            "    {\n",
            "      \"slide_6\": {\n",
            "        \"visual\": \"Depoimento curto ou ícone de 'check'\",\n",
            "        \"copy\": \"Resultados comprovados por quem já escalou! Veja como outros profissionais estão transformando seus projetos. ✨\"\n",
            "      }\n",
            "    },\n",
            "    {\n",
            "      \"slide_7\": {\n",
            "        \"visual\": \"Contagem regressiva ou 'Últimas Vagas'\",\n",
            "        \"copy\": \"Mentoria Individual. Vagas LIMITADAS. Garanta sua vaga AGORA! ⏳\\n[SWIPE UP]\"\n",
            "      }\n",
            "    }\n",
            "  ],\n",
            "  \"ads\": [\n",
            "    {\n",
            "      \"headline\": \"Chega de Projetos Estagnados: Arquitete Soluções 6 e 7 Dígitos com a IA.\",\n",
            "      \"primary_text\": \"Cansado de ver suas ideias de software não saírem do papel ou não escalarem? A Mentoria de Desenvolvimento Inteligente do Mauricio Issei te dá o método exclusivo para construir soluções robustas, aceleradas por IA, e desbloquear um faturamento exponencial. Profissionais já estão transformando seus projetos. Clique e saiba como.\",\n",
            "      \"link_description\": \"Últimas Vagas para a Mentoria Individual.\"\n",
            "    },\n",
            "    {\n",
            "      \"headline\": \"IA + Arquitetura: O Segredo para Soluções de Software Imbatíveis.\",\n",
            "      \"primary_text\": \"Quer construir sistemas complexos de forma eficiente e escalável? Mauricio Issei te guia na única metodologia que une estratégia de arquitetura com o poder da IA. Desenvolva do zero ao 6/7 dígitos. Comprovado por quem já aplicou. Garanta sua vaga!\",\n",
            "      \"link_description\": \"Acelere seu Desenvolvimento com IA.\"\n",
            "    },\n",
            "    {\n",
            "      \"headline\": \"Mauricio Issei Revela: O Método Inteligente para Faturar Múltiplos Dígitos.\",\n",
            "      \"primary_text\": \"Sua expertise técnica não está gerando o lucro que deveria? Na Mentoria Individual, você vai dominar a arquitetura de soluções de software e usar a IA para criar projetos de alto impacto e lucratividade. Junte-se aos que já estão no topo. Vagas Limitadas!\",\n",
            "      \"link_description\": \"Sua Rota para Soluções de Elite.\"\n",
            "    }\n",
            "  ],\n",
            "  \"vsl\": {\n",
            "    \"script\": [\n",
            "      {\n",
            "        \"time\": \"00:00 - 00:30\",\n",
            "        \"segment\": \"Abertura e Hook (Dor)\",\n",
            "        \"copy\": \"Seus projetos de software não escalam? Você se sente preso na complexidade e o faturamento não decola? Se você é um empreendedor digital, desenvolvedor ou profissional de tecnologia ambicioso, mas se vê lutando para transformar suas grandes ideias em soluções robustas e lucrativas, preste muita atenção nos próximos minutos.\"\n",
            "      },\n",
            "      {\n",
            "        \"time\": \"00:30 - 01:30\",\n",
            "        \"segment\": \"Amplificação do Problema\",\n",
            "        \"copy\": \"A frustração de ver seu potencial técnico virar retrabalho. A paralisia diante da complexidade, sem um método claro para arquitetar soluções que realmente funcionem e escalem. O medo de ser superado pela velocidade da inovação, especialmente com a IA, e a preocupação de que seus conhecimentos atuais não são suficientes para construir o futuro. Você sabe que tem a capacidade de faturar 6 ou 7 dígitos, mas seus projetos atuais simplesmente não chegam lá. Isso te consome tempo, energia e, o pior, oportunidades.\"\n",
            "      },\n",
            "      {\n",
            "        \"time\": \"01:30 - 02:30\",\n",
            "        \"segment\": \"A Revelação (A Nova Oportunidade)\",\n",
            "        \"copy\": \"Mas e se eu te dissesse que existe um caminho claro? Um método validado que combina a solidez da arquitetura de software com o poder incomparável do desenvolvimento acelerado por Inteligência Artificial? Um atalho estratégico para você construir soluções de elite, escaláveis, à prova de futuro e que realmente geram um faturamento exponencial.\"\n",
            "      },\n",
            "      {\n",
            "        \"time\": \"02:30 - 03:30\",\n",
            "        \"segment\": \"Autoridade e Credibilidade (Mauricio Issei)\",\n",
            "        \"copy\": \"Eu sou Mauricio Issei, e passei anos desenvolvendo e validando exatamente esse método. Ajudei inúmeros profissionais a superarem a barreira da complexidade, transformando suas visões em realidade digital. Não falo de teoria, mas de prática e resultados comprovados. Eu entendo o que você passa, e sei como te tirar dessa estagnação.\"\n",
            "      },\n",
            "      {\n",
            "        \"time\": \"03:30 - 05:00\",\n",
            "        \"segment\": \"Benefícios e Transformação Detalhada (com USP)\",\n",
            "        \"copy\": \"Com a minha Mentoria de Desenvolvimento Inteligente, você vai:\\n*   **Dominar a Arquitetura de Software com Maestria:** Conceba e construa soluções complexas, robustas e escaláveis do zero, com uma clareza e eficiência que poucos alcançam.\\n*   **Alavancar a IA para Acelerar Seu Desenvolvimento:** Aprenda a integrar ferramentas de Inteligência Artificial de forma estratégica para otimizar cada etapa do desenvolvimento, entregando projetos de alta qualidade em tempo recorde e com menos esforço.\\n*   **Desbloquear um Faturamento de 6 a 7 Dígitos:** Transforme sua capacidade técnica em um motor de lucratividade, arquitetando soluções que não apenas funcionam, mas geram valor exponencial, posicionando você no topo do mercado.\\n*   **Conquistar Autoridade Inquestionável:** Torne-se a referência em seu nicho, com um método exclusivo que combina estratégia de arquitetura e poder da IA.\\n*   **Criar Soluções à Prova de Futuro:** Desenvolva sistemas que não apenas atendem às demandas atuais, mas estão preparados para o crescimento e as inovações futuras, garantindo a longevidade e o sucesso dos seus empreendimentos.\"\n",
            "      },\n",
            "      {\n",
            "        \"time\": \"05:00 - 06:00\",\n",
            "        \"segment\": \"Prova Social / Casos de Sucesso (Genéricos para Semente)\",\n",
            "        \"copy\": \"Não sou só eu que digo... Profissionais que aplicaram princípios similares de arquitetura inteligente e aceleração por IA já viram seus projetos decolarem, saindo do zero para faturamentos exponenciais. Eles transformaram a estagnação em autoridade e lucro, construindo soluções que antes pareciam impossíveis. Se eles conseguiram, você também pode. A prova está nos resultados de quem decide agir com inteligência.\"\n",
            "      },\n",
            "      {\n",
            "        \"time\": \"06:00 - 08:00\",\n",
            "        \"segment\": \"Quebra de Objeções (Detalhada)\",\n",
            "        \"copy\": \"Talvez você esteja pensando: 'Não tenho conhecimento técnico suficiente'. Muitos acreditam que para dominar a arquitetura de software e a IA é preciso ser um gênio. Mas a verdade é que o que falta é um *método claro*. Minha mentoria é desenhada para guiar você do zero, transformando sua dificuldade em uma habilidade concreta. Não se trata de pré-requisitos, mas de capacidade de aprendizado e aplicação estratégica.\\nOu talvez: 'O preço é muito alto para mim'. Entendo que R$ 999,97 possa parecer um investimento. Mas qual o *custo real* de manter seus projetos estagnados, de perder oportunidades de faturar 6 ou 7 dígitos por não ter soluções escaláveis? Esta não é apenas uma 'compra', é um *investimento direto no seu futuro e no seu faturamento*. Pense na mentoria individual como um atalho estratégico: você terá o meu acompanhamento direto para arquitetar soluções que valem muito mais que esse valor.\\nE a clássica: 'Não tenho tempo para aplicar o método'. A falta de tempo é uma das maiores armadilhas para empreendedores e desenvolvedores. E, ironicamente, ela é muitas vezes causada pela *falta de um método eficiente*. Minha mentoria não vai 'tomar' seu tempo; ela vai *otimizá-lo e multiplicá-lo*. Nosso método, acelerado por IA, foi criado justamente para que você construa soluções robustas em *menos tempo*. Invista um pequeno tempo agora para *ganhar meses ou até anos* de produtividade e faturamento no futuro.\"\n",
            "      },\n",
            "      {\n",
            "        \"time\": \"08:00 - 09:30\",\n",
            "        \"segment\": \"Apresentando a Mentoria de Desenvolvimento Inteligente (Oferta)\",\n",
            "        \"copy\": \"É por isso que criei a **Mentoria de Desenvolvimento Inteligente**. Este não é apenas um curso, é um programa de acompanhamento personalizado, onde eu vou te guiar passo a passo na criação de soluções de software complexas e escaláveis, utilizando o poder da IA. Você terá acesso ao meu método exclusivo, meus frameworks, minhas estratégias e, o mais importante, o meu tempo e a minha expertise dedicados a você. Um acompanhamento 1-a-1, direcionado exclusivamente às suas necessidades e desafios, garantindo que cada passo seja para o SEU sucesso. É a personalização que você precisa para resultados reais.\"\n",
            "      },\n",
            "      {\n",
            "        \"time\": \"09:30 - 10:30\",\n",
            "        \"segment\": \"Preço e Justificativa (Valor vs. Preço)\",\n",
            "        \"copy\": \"O valor real de uma mentoria individual como esta, com acesso direto a anos de experiência e um método que pode gerar múltiplos dígitos de faturamento, poderia facilmente custar R$10.000 ou mais. Mas, para esta turma de lançamento semente, e porque quero ver você alcançar esses resultados, você terá acesso por apenas **R$ 999,97**.\"\n",
            "      },\n",
            "      {\n",
            "        \"time\": \"10:30 - 11:30\",\n",
            "        \"segment\": \"Escassez e Urgência\",\n",
            "        \"copy\": \"Mas atenção: por ser uma mentoria individual e com o meu acompanhamento direto, as vagas são **EXTREMAMENTE limitadas**. Apenas 50 profissionais terão essa oportunidade de transformar seus projetos e faturamento. E o carrinho fecha em **29 de Setembro**. Esta é a sua janela. Não haverá outra chance como esta tão cedo.\"\n",
            "      },\n",
            "      {\n",
            "        \"time\": \"11:30 - 12:00\",\n",
            "        \"segment\": \"Chamada para Ação Final\",\n",
            "        \"copy\": \"A decisão é sua. Continuar na estagnação, perdendo tempo e dinheiro, ou investir no método que vai te levar ao próximo nível? Clique no botão abaixo AGORA e garanta sua vaga na Mentoria de Desenvolvimento Inteligente. Não deixe a estagnação roubar seu futuro. Comece a construir soluções de elite e um faturamento exponencial hoje!\"\n",
            "      }\n",
            "    ]\n",
            "  }\n",
            "}\n",
            "\n",
            "✅ Resultados salvos em 'outputs/copy_final.json' e 'outputs/copy_final.md'.\n"
          ]
        }
      ],
      "source": [
        "if final_copy_state:\n",
        "    # Acessa a copy gerada dentro do estado capturado\n",
        "    final_copy = final_copy_state.get('copy_por_canal', {})\n",
        "\n",
        "    if 'error' in final_copy:\n",
        "        print(\"--- ❌ FALHA NA GERAÇÃO DA COPY ---\")\n",
        "        print(json.dumps(final_copy, indent=2, ensure_ascii=False))\n",
        "    else:\n",
        "        print(\"--- ✅ COPY FINAL GERADA ---\")\n",
        "        print(json.dumps(final_copy, indent=2, ensure_ascii=False))\n",
        "\n",
        "        # Salvar os resultados em arquivos\n",
        "        output_dir = \"outputs\"\n",
        "        os.makedirs(output_dir, exist_ok=True)\n",
        "\n",
        "        json_path = os.path.join(output_dir, \"copy_final.json\")\n",
        "        md_path = os.path.join(output_dir, \"copy_final.md\")\n",
        "\n",
        "        with open(json_path, \"w\", encoding=\"utf-8\") as f:\n",
        "            json.dump(final_copy, f, ensure_ascii=False, indent=2)\n",
        "\n",
        "        with open(md_path, \"w\", encoding=\"utf-8\") as f:\n",
        "            f.write(\"# Assets de Copy Gerados\\n\\n\")\n",
        "            # Verifica se o conteúdo é um dicionário antes de iterar\n",
        "            if isinstance(final_copy, dict):\n",
        "                for canal, conteudo in final_copy.items():\n",
        "                    f.write(f\"## {canal.title()}\\n\\n\")\n",
        "                    if isinstance(conteudo, dict) or isinstance(conteudo, list):\n",
        "                        f.write(\"```json\\n\")\n",
        "                        f.write(json.dumps(conteudo, ensure_ascii=False, indent=2))\n",
        "                        f.write(\"\\n```\\n\\n\")\n",
        "                    else:\n",
        "                        f.write(f\"{conteudo}\\n\\n\")\n",
        "            else:\n",
        "                f.write(str(final_copy))\n",
        "\n",
        "        print(f\"\\n✅ Resultados salvos em '{json_path}' e '{md_path}'.\")\n",
        "else:\n",
        "    print(\"❌ Nenhuma saída final foi gerada. Verifique os logs de execução do grafo.\")"
      ],
      "id": "vKitB6tupHBs"
    }
  ],
  "metadata": {
    "kernelspec": {
      "display_name": "Python 3",
      "language": "python",
      "name": "python3"
    },
    "language_info": {
      "codemirror_mode": {
        "name": "ipython",
        "version": 3
      },
      "file_extension": ".py",
      "mimetype": "text/x-python",
      "name": "python",
      "nbconvert_exporter": "python",
      "pygments_lexer": "ipython3",
      "version": "3.10.12"
    },
    "colab": {
      "provenance": []
    }
  },
  "nbformat": 4,
  "nbformat_minor": 5
}
