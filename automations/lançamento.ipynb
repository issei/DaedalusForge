{
  "nbformat": 4,
  "nbformat_minor": 5,
  "metadata": {
    "colab": {
      "provenance": [],
      "include_colab_link": true
    },
    "kernelspec": {
      "name": "python3",
      "display_name": "Python 3"
    },
    "language_info": {
      "name": "python"
    }
  },
  "cells": [
    {
      "cell_type": "markdown",
      "metadata": {
        "id": "view-in-github",
        "colab_type": "text"
      },
      "source": [
        "<a href=\"https://colab.research.google.com/github/issei/DaedalusForge/blob/main/automations/lan%C3%A7amento.ipynb\" target=\"_parent\"><img src=\"https://colab.research.google.com/assets/colab-badge.svg\" alt=\"Open In Colab\"/></a>"
      ]
    },
    {
      "cell_type": "markdown",
      "source": [
        "# Automação de Copy para Lançamentos com Gemini e RAG\n",
        "\n",
        "Este notebook implementa uma rede de 4 agentes de IA para gerar ativos de copy (textos de marketing) para um lançamento de infoproduto. A arquitetura utiliza:\n",
        "\n",
        "- **LLM**: Google Gemini 1.5 Pro\n",
        "- **Framework**: LangChain\n",
        "- **RAG (Retrieval-Augmented Generation)**: DumplingAI como Knowledge Base vetorial.\n",
        "\n",
        "### Fluxo de Execução\n",
        "1.  **Configuração**: Instalação de pacotes e definição de chaves de API (Google e Dumpling).\n",
        "2.  **Ingestão de Dados**: Um briefing de lançamento em formato JSON é carregado.\n",
        "3.  **Indexação (RAG)**: O briefing é convertido para texto e enviado para uma Knowledge Base (KB) no DumplingAI.\n",
        "4.  **Retriever Customizado**: Um retriever do LangChain é configurado para consultar a KB do Dumpling via API.\n",
        "5.  **Rede de Agentes**: 4 agentes especializados são definidos, cada um com uma tarefa específica:\n",
        "    - `Dores & Promessas`: Identifica os principais problemas e as transformações oferecidas.\n",
        "    - `Objeções & Quebras`: Antecipa as barreiras de compra e cria argumentos para superá-las.\n",
        "    - `Headlines & Ângulos`: Gera títulos e abordagens criativas para anúncios e conteúdos.\n",
        "    - `Adaptação por Canais`: Cria versões do copy adaptadas para diferentes plataformas (Email, Instagram, Anúncios, etc.).\n",
        "6.  **Orquestração**: Os 4 agentes são executados em paralelo para otimizar o tempo.\n",
        "7.  **Saída**: Os resultados são agregados, salvos em arquivos `JSON` e `Markdown`, e podem ser opcionalmente reindexados na KB para referência futura."
      ],
      "metadata": {
        "id": "J1rS2w7F9d_I"
      },
      "id": "J1rS2w7F9d_I"
    },
    {
      "cell_type": "code",
      "source": [
        "!pip -q install -U langchain langchain-google-genai google-generativeai httpx pydantic python-dotenv\n",
        "print(\"✅ Dependências instaladas\")"
      ],
      "metadata": {
        "colab": {
          "base_uri": "https://localhost:8080/",
          "height": 37
        },
        "id": "eQ2R9f1d0K8t",
        "outputId": "9d902d18-97e0-4050-891d-5517937b8f2d",
        "title": "📦 Instalar dependências (execute uma vez)"
      },
      "execution_count": null,
      "outputs": [
        {
          "output_type": "stream",
          "name": "stdout",
          "text": [
            "✅ Dependências instaladas\n"
          ]
        }
      ],
      "id": "eQ2R9f1d0K8t"
    },
    {
      "cell_type": "code",
      "source": [
        "import os, json, httpx, re\n",
        "from typing import List, Optional, Dict, Any\n",
        "from datetime import datetime\n",
        "from google.colab import userdata\n",
        "\n",
        "# LangChain\n",
        "from langchain_core.documents import Document\n",
        "from langchain_core.prompts import ChatPromptTemplate\n",
        "from langchain_core.runnables import RunnableParallel\n",
        "from langchain_core.retrievers import BaseRetriever\n",
        "from langchain_core.callbacks import CallbackManagerForRetrieverRun\n",
        "\n",
        "# Gemini via LangChain + SDK nativo\n",
        "from langchain_google_genai import ChatGoogleGenerativeAI\n",
        "import google.generativeai as genai  # SDK oficial Google\n",
        "\n",
        "# ======== PARAMS (edite aqui) ========\n",
        "GOOGLE_API_KEY = userdata.get('GOOGLE_API_KEY')\n",
        "DUMPLING_API_KEY = userdata.get('DUMPLING_API_KEY')\n",
        "DUMPLING_KB_ID = userdata.get('DUMPLING_KB_ID')\n",
        "GEMINI_MODEL = \"gemini-2.5-flash\"  # @param {type:\"string\"}\n",
        "TEMPERATURE = 0.6  # @param {type:\"number\"}\n",
        "MAX_TOKENS = 2048\n",
        "\n",
        "assert GOOGLE_API_KEY, \"Defina GOOGLE_API_KEY\"\n",
        "assert DUMPLING_API_KEY, \"Defina DUMPLING_API_KEY\"\n",
        "assert DUMPLING_KB_ID, \"Defina DUMPLING_KB_ID\"\n",
        "\n",
        "os.environ[\"GOOGLE_API_KEY\"] = GOOGLE_API_KEY\n",
        "genai.configure(api_key=GOOGLE_API_KEY)\n",
        "\n",
        "# ======== Dumpling config ========\n",
        "DUMPLING_BASE = \"https://app.dumplingai.com/api/v1\"\n",
        "DUMPLING_HEADERS = {\n",
        "    \"Authorization\": f\"Bearer {DUMPLING_API_KEY}\",\n",
        "    \"Content-Type\": \"application/json\"\n",
        "}\n",
        "\n",
        "print(\"✅ Chaves configuradas\")"
      ],
      "metadata": {
        "colab": {
          "base_uri": "https://localhost:8080/"
        },
        "id": "e3Tj8VfE0UjM",
        "outputId": "e4ef3913-3537-48ce-d5d4-28b3b376eae0",
        "title": "🔐 Configurar chaves e IDs (preencha e execute)"
      },
      "execution_count": 10,
      "outputs": [
        {
          "output_type": "stream",
          "name": "stdout",
          "text": [
            "✅ Chaves configuradas\n"
          ]
        }
      ],
      "id": "e3Tj8VfE0UjM"
    },
    {
      "cell_type": "code",
      "source": [
        "# 🧩 Funções auxiliares – DumplingAI (httpx)\n",
        "class DumplingError(RuntimeError):\n",
        "    pass\n",
        "\n",
        "def dumpling_add_to_kb(knowledge_base_id: str, name: str, content: str) -> Dict[str, Any]:\n",
        "    \"\"\"\n",
        "    POST /knowledge-bases/add\n",
        "    Body: { knowledgeBaseId, name, content }\n",
        "    Docs: https://docs.dumplingai.com/api-reference/endpoint/add-to-knowledge-base\n",
        "    \"\"\"\n",
        "    url = f\"{DUMPLING_BASE}/knowledge-bases/add\"\n",
        "    payload = {\n",
        "        \"knowledgeBaseId\": knowledge_base_id,\n",
        "        \"name\": name,\n",
        "        \"content\": content,\n",
        "    }\n",
        "    r = httpx.post(url, headers=DUMPLING_HEADERS, json=payload, timeout=60)\n",
        "    if r.status_code >= 400:\n",
        "        raise DumplingError(f\"Add KB falhou: {r.status_code} – {r.text}\")\n",
        "    return r.json()\n",
        "\n",
        "def dumpling_search_kb(knowledge_base_id: str, query: str, result_count: int = 8) -> List[Dict[str, Any]]:\n",
        "    \"\"\"\n",
        "    POST /knowledge-bases/query\n",
        "    Body: { knowledgeBaseId, query, resultCount }\n",
        "    Docs: https://docs.dumplingai.com/api-reference/endpoint/search-knowledge-base\n",
        "    \"\"\"\n",
        "    url = f\"{DUMPLING_BASE}/knowledge-bases/query\"\n",
        "    payload = {\n",
        "        \"knowledgeBaseId\": knowledge_base_id,\n",
        "        \"query\": query,\n",
        "        \"resultCount\": max(1, min(int(result_count), 25))\n",
        "    }\n",
        "    r = httpx.post(url, headers=DUMPLING_HEADERS, json=payload, timeout=60)\n",
        "    if r.status_code >= 400:\n",
        "        raise DumplingError(f\"Query KB falhou: {r.status_code} – {r.text}\")\n",
        "    return r.json()\n",
        "\n",
        "print(\"✅ Dumpling helpers prontos\")"
      ],
      "metadata": {
        "colab": {
          "base_uri": "https://localhost:8080/"
        },
        "id": "eR-9xK1w0gG5",
        "outputId": "4f62c156-4ee1-4a6a-b139-b3f16015ef9b",
        "title": "🧩 Helpers do DumplingAI (RAG via API)"
      },
      "execution_count": 3,
      "outputs": [
        {
          "output_type": "stream",
          "name": "stdout",
          "text": [
            "✅ Dumpling helpers prontos\n"
          ]
        }
      ],
      "id": "eR-9xK1w0gG5"
    },
    {
      "cell_type": "code",
      "source": [
        "# 🔎 Retriever customizado\n",
        "class DumplingRetriever(BaseRetriever):\n",
        "    knowledge_base_id: str\n",
        "    top_k: int = 8\n",
        "\n",
        "    def _get_relevant_documents(\n",
        "        self,\n",
        "        query: str,\n",
        "        *,\n",
        "        run_manager: Optional[CallbackManagerForRetrieverRun] = None,\n",
        "    ) -> List[Document]:\n",
        "        hits = dumpling_search_kb(self.knowledge_base_id, query, self.top_k)\n",
        "        docs = []\n",
        "        for h in hits:\n",
        "            docs.append(Document(\n",
        "                page_content=h.get(\"content\") or \"\",\n",
        "                metadata={\n",
        "                    \"id\": h.get(\"id\"),\n",
        "                    \"resource_name\": h.get(\"resource_name\"),\n",
        "                    \"similarity\": h.get(\"similarity\"),\n",
        "                }\n",
        "            ))\n",
        "        return docs\n",
        "\n",
        "retriever = DumplingRetriever(knowledge_base_id=DUMPLING_KB_ID, top_k=8)\n",
        "print(\"✅ Retriever pronto\")"
      ],
      "metadata": {
        "colab": {
          "base_uri": "https://localhost:8080/"
        },
        "id": "w3wW3qgK0zYk",
        "outputId": "3b0dec42-a20c-4946-d7a2-864a9a2468fb",
        "title": "🔎 Retriever customizado (LangChain) chamando o Dumpling"
      },
      "execution_count": 4,
      "outputs": [
        {
          "output_type": "stream",
          "name": "stdout",
          "text": [
            "✅ Retriever pronto\n"
          ]
        }
      ],
      "id": "w3wW3qgK0zYk"
    },
    {
      "cell_type": "code",
      "source": [
        "BRIEFING_JSON = r'''\n",
        "{\n",
        "  \"briefing_lancamento\": {\n",
        "    \"infoproduto\": {\n",
        "      \"nome\": \"Mentoria de Desenvolvimento Inteligente\",\n",
        "      \"produtor\": \"Mauricio Issei\",\n",
        "      \"preco\": 99997.00,\n",
        "      \"formato\": \"Mentoria Individual\",\n",
        "      \"descricao\": \"Mentoria individual para desenvolver arquiteturas de soluções complexas\"\n",
        "    },\n",
        "    \"publico_alvo\": {\n",
        "      \"demografia\": \"Empreendedores digitais iniciantes, profissionais de tecnologia\",\n",
        "      \"problema_principal\": \"Dificuldade em resolver problemas, falta de método para desenvolvimento, baixo faturamento.\",\n",
        "      \"transformacao_principal\": \"Criar soluções de alta qualidade e escalável do zero, alcançando faturamento de 6 ou 7 dígitos.\",\n",
        "      \"objecoes_comuns\": [\n",
        "        \"Não tenho conhecimento suficiente\",\n",
        "        \"O preço é muito alto\",\n",
        "        \"Não tenho tempo para aplicar o método\"\n",
        "      ]\n",
        "    },\n",
        "    \"posicionamento\": {\n",
        "      \"diferencial_competitivo\": \"Único método que combina estratégia de arquitetura de soluções com o poder do desenvolvimento com ferramentas de IA.\",\n",
        "      \"tom_de_voz\": \"Autoridade, inspirador, prático\",\n",
        "      \"gatilhos_mentais\": [\n",
        "        \"Autoridade\",\n",
        "        \"Prova Social\",\n",
        "        \"Escassez\",\n",
        "        \"Reciprocidade\"\n",
        "      ]\n",
        "    },\n",
        "    \"estrategia_lancamento\": {\n",
        "      \"tipo_lancamento\": \"Semente\",\n",
        "      \"meta_campanha\": \"Vender 500 unidades e faturar R$ 500.000\",\n",
        "      \"datas_chave\": {\n",
        "        \"inicio_campanha\": \"2025-09-15\",\n",
        "        \"abertura_carrinho\": \"2025-09-22\",\n",
        "        \"fechamento_carrinho\": \"2025-09-29\"\n",
        "      },\n",
        "      \"canais\": [\n",
        "        \"Email Marketing\",\n",
        "        \"Meta Ads\",\n",
        "        \"Instagram Stories\",\n",
        "        \"YouTube\"\n",
        "      ]\n",
        "    }\n",
        "  }\n",
        "}\n",
        "'''\n",
        "\n",
        "briefing = json.loads(BRIEFING_JSON)\n",
        "print(\"✅ Briefing carregado\")"
      ],
      "metadata": {
        "colab": {
          "base_uri": "https://localhost:8080/"
        },
        "id": "e3Tj8VfE0UjN",
        "outputId": "9d490c5b-2a80-4a98-ef02-ca5162aa6813",
        "title": "📥 Cole aqui seu JSON de briefing (ou mantenha o exemplo)"
      },
      "execution_count": 5,
      "outputs": [
        {
          "output_type": "stream",
          "name": "stdout",
          "text": [
            "✅ Briefing carregado\n"
          ]
        }
      ],
      "id": "e3Tj8VfE0UjN"
    },
    {
      "cell_type": "code",
      "source": [
        "# (Opcional) Upload de arquivo JSON via Colab\n",
        "try:\n",
        "    from google.colab import files  # type: ignore\n",
        "    print(\"Selecione um arquivo .json (ou pule este passo).\")\n",
        "    up = files.upload()\n",
        "    if up:\n",
        "        fname = list(up.keys())[0]\n",
        "        BRIEFING_JSON = open(fname, \"r\", encoding=\"utf-8\").read()\n",
        "        briefing = json.loads(BRIEFING_JSON)\n",
        "        print(\"✅ JSON carregado de arquivo:\", fname)\n",
        "except Exception:\n",
        "    print(\"Upload não disponível fora do Colab (ok).\")"
      ],
      "metadata": {
        "id": "k8X1lW3l1Y8e",
        "colab": {
          "base_uri": "https://localhost:8080/",
          "height": 55
        },
        "outputId": "a1fa2f8a-4cb6-45b5-cb4b-4a93fc54ded1"
      },
      "execution_count": 6,
      "outputs": [
        {
          "output_type": "stream",
          "name": "stdout",
          "text": [
            "Selecione um arquivo .json (ou pule este passo).\n"
          ]
        },
        {
          "output_type": "display_data",
          "data": {
            "text/plain": [
              "<IPython.core.display.HTML object>"
            ],
            "text/html": [
              "\n",
              "     <input type=\"file\" id=\"files-9280d6a1-ff84-400e-8a64-378cc63f4fb6\" name=\"files[]\" multiple disabled\n",
              "        style=\"border:none\" />\n",
              "     <output id=\"result-9280d6a1-ff84-400e-8a64-378cc63f4fb6\">\n",
              "      Upload widget is only available when the cell has been executed in the\n",
              "      current browser session. Please rerun this cell to enable.\n",
              "      </output>\n",
              "      <script>// Copyright 2017 Google LLC\n",
              "//\n",
              "// Licensed under the Apache License, Version 2.0 (the \"License\");\n",
              "// you may not use this file except in compliance with the License.\n",
              "// You may obtain a copy of the License at\n",
              "//\n",
              "//      http://www.apache.org/licenses/LICENSE-2.0\n",
              "//\n",
              "// Unless required by applicable law or agreed to in writing, software\n",
              "// distributed under the License is distributed on an \"AS IS\" BASIS,\n",
              "// WITHOUT WARRANTIES OR CONDITIONS OF ANY KIND, either express or implied.\n",
              "// See the License for the specific language governing permissions and\n",
              "// limitations under the License.\n",
              "\n",
              "/**\n",
              " * @fileoverview Helpers for google.colab Python module.\n",
              " */\n",
              "(function(scope) {\n",
              "function span(text, styleAttributes = {}) {\n",
              "  const element = document.createElement('span');\n",
              "  element.textContent = text;\n",
              "  for (const key of Object.keys(styleAttributes)) {\n",
              "    element.style[key] = styleAttributes[key];\n",
              "  }\n",
              "  return element;\n",
              "}\n",
              "\n",
              "// Max number of bytes which will be uploaded at a time.\n",
              "const MAX_PAYLOAD_SIZE = 100 * 1024;\n",
              "\n",
              "function _uploadFiles(inputId, outputId) {\n",
              "  const steps = uploadFilesStep(inputId, outputId);\n",
              "  const outputElement = document.getElementById(outputId);\n",
              "  // Cache steps on the outputElement to make it available for the next call\n",
              "  // to uploadFilesContinue from Python.\n",
              "  outputElement.steps = steps;\n",
              "\n",
              "  return _uploadFilesContinue(outputId);\n",
              "}\n",
              "\n",
              "// This is roughly an async generator (not supported in the browser yet),\n",
              "// where there are multiple asynchronous steps and the Python side is going\n",
              "// to poll for completion of each step.\n",
              "// This uses a Promise to block the python side on completion of each step,\n",
              "// then passes the result of the previous step as the input to the next step.\n",
              "function _uploadFilesContinue(outputId) {\n",
              "  const outputElement = document.getElementById(outputId);\n",
              "  const steps = outputElement.steps;\n",
              "\n",
              "  const next = steps.next(outputElement.lastPromiseValue);\n",
              "  return Promise.resolve(next.value.promise).then((value) => {\n",
              "    // Cache the last promise value to make it available to the next\n",
              "    // step of the generator.\n",
              "    outputElement.lastPromiseValue = value;\n",
              "    return next.value.response;\n",
              "  });\n",
              "}\n",
              "\n",
              "/**\n",
              " * Generator function which is called between each async step of the upload\n",
              " * process.\n",
              " * @param {string} inputId Element ID of the input file picker element.\n",
              " * @param {string} outputId Element ID of the output display.\n",
              " * @return {!Iterable<!Object>} Iterable of next steps.\n",
              " */\n",
              "function* uploadFilesStep(inputId, outputId) {\n",
              "  const inputElement = document.getElementById(inputId);\n",
              "  inputElement.disabled = false;\n",
              "\n",
              "  const outputElement = document.getElementById(outputId);\n",
              "  outputElement.innerHTML = '';\n",
              "\n",
              "  const pickedPromise = new Promise((resolve) => {\n",
              "    inputElement.addEventListener('change', (e) => {\n",
              "      resolve(e.target.files);\n",
              "    });\n",
              "  });\n",
              "\n",
              "  const cancel = document.createElement('button');\n",
              "  inputElement.parentElement.appendChild(cancel);\n",
              "  cancel.textContent = 'Cancel upload';\n",
              "  const cancelPromise = new Promise((resolve) => {\n",
              "    cancel.onclick = () => {\n",
              "      resolve(null);\n",
              "    };\n",
              "  });\n",
              "\n",
              "  // Wait for the user to pick the files.\n",
              "  const files = yield {\n",
              "    promise: Promise.race([pickedPromise, cancelPromise]),\n",
              "    response: {\n",
              "      action: 'starting',\n",
              "    }\n",
              "  };\n",
              "\n",
              "  cancel.remove();\n",
              "\n",
              "  // Disable the input element since further picks are not allowed.\n",
              "  inputElement.disabled = true;\n",
              "\n",
              "  if (!files) {\n",
              "    return {\n",
              "      response: {\n",
              "        action: 'complete',\n",
              "      }\n",
              "    };\n",
              "  }\n",
              "\n",
              "  for (const file of files) {\n",
              "    const li = document.createElement('li');\n",
              "    li.append(span(file.name, {fontWeight: 'bold'}));\n",
              "    li.append(span(\n",
              "        `(${file.type || 'n/a'}) - ${file.size} bytes, ` +\n",
              "        `last modified: ${\n",
              "            file.lastModifiedDate ? file.lastModifiedDate.toLocaleDateString() :\n",
              "                                    'n/a'} - `));\n",
              "    const percent = span('0% done');\n",
              "    li.appendChild(percent);\n",
              "\n",
              "    outputElement.appendChild(li);\n",
              "\n",
              "    const fileDataPromise = new Promise((resolve) => {\n",
              "      const reader = new FileReader();\n",
              "      reader.onload = (e) => {\n",
              "        resolve(e.target.result);\n",
              "      };\n",
              "      reader.readAsArrayBuffer(file);\n",
              "    });\n",
              "    // Wait for the data to be ready.\n",
              "    let fileData = yield {\n",
              "      promise: fileDataPromise,\n",
              "      response: {\n",
              "        action: 'continue',\n",
              "      }\n",
              "    };\n",
              "\n",
              "    // Use a chunked sending to avoid message size limits. See b/62115660.\n",
              "    let position = 0;\n",
              "    do {\n",
              "      const length = Math.min(fileData.byteLength - position, MAX_PAYLOAD_SIZE);\n",
              "      const chunk = new Uint8Array(fileData, position, length);\n",
              "      position += length;\n",
              "\n",
              "      const base64 = btoa(String.fromCharCode.apply(null, chunk));\n",
              "      yield {\n",
              "        response: {\n",
              "          action: 'append',\n",
              "          file: file.name,\n",
              "          data: base64,\n",
              "        },\n",
              "      };\n",
              "\n",
              "      let percentDone = fileData.byteLength === 0 ?\n",
              "          100 :\n",
              "          Math.round((position / fileData.byteLength) * 100);\n",
              "      percent.textContent = `${percentDone}% done`;\n",
              "\n",
              "    } while (position < fileData.byteLength);\n",
              "  }\n",
              "\n",
              "  // All done.\n",
              "  yield {\n",
              "    response: {\n",
              "      action: 'complete',\n",
              "    }\n",
              "  };\n",
              "}\n",
              "\n",
              "scope.google = scope.google || {};\n",
              "scope.google.colab = scope.google.colab || {};\n",
              "scope.google.colab._files = {\n",
              "  _uploadFiles,\n",
              "  _uploadFilesContinue,\n",
              "};\n",
              "})(self);\n",
              "</script> "
            ]
          },
          "metadata": {}
        }
      ],
      "id": "k8X1lW3l1Y8e"
    },
    {
      "cell_type": "code",
      "source": [
        "def canonicalize_briefing_to_text(briefing: Dict[str, Any]) -> str:\n",
        "    b    = briefing.get(\"briefing_lancamento\", {})\n",
        "    inf  = b.get(\"infoproduto\", {})\n",
        "    pub  = b.get(\"publico_alvo\", {})\n",
        "    pos  = b.get(\"posicionamento\", {})\n",
        "    est  = b.get(\"estrategia_lancamento\", {})\n",
        "    datas= est.get(\"datas_chave\", {})\n",
        "\n",
        "    linhas = []\n",
        "    linhas.append(\"# Briefing de Lançamento — Canonicalizado\")\n",
        "    linhas.append(\"## Produto\")\n",
        "    linhas.append(f\"Nome: {inf.get('nome','')} | Produtor: {inf.get('produtor','')} | Preço: {inf.get('preco','')} | Formato: {inf.get('formato','')}\")\n",
        "    linhas.append(f\"Descrição: {inf.get('descricao','')}\")\n",
        "    linhas.append(\"\\n## Público-alvo & Persona\")\n",
        "    linhas.append(f\"Demografia/Psicografia: {pub.get('demografia','')}\")\n",
        "    linhas.append(f\"Dor principal: {pub.get('problema_principal','')}\")\n",
        "    linhas.append(f\"Transformação: {pub.get('transformacao_principal','')}\")\n",
        "    if pub.get(\"objecoes_comuns\"):\n",
        "        linhas.append(\"Objeções comuns:\")\n",
        "        for o in pub[\"objecoes_comuns\"]:\n",
        "            linhas.append(f\"- {o}\")\n",
        "    linhas.append(\"\\n## Posicionamento & Diferencial\")\n",
        "    linhas.append(f\"USP: {pos.get('diferencial_competitivo','')}\")\n",
        "    linhas.append(f\"Tom de voz: {pos.get('tom_de_voz','')}\")\n",
        "    if pos.get(\"gatilhos_mentais\"):\n",
        "        linhas.append(\"Gatilhos prioritários: \" + \", \".join(pos[\"gatilhos_mentais\"]))\n",
        "    linhas.append(\"\\n## Estratégia de Lançamento\")\n",
        "    linhas.append(f\"Tipo: {est.get('tipo_lancamento','')} | Meta: {est.get('meta_campanha','')}\")\n",
        "    linhas.append(f\"Período/Datas: início={datas.get('inicio_campanha','')} | abertura={datas.get('abertura_carrinho','')} | fechamento={datas.get('fechamento_carrinho','')}\")\n",
        "    if est.get(\"canais\"):\n",
        "        linhas.append(\"Canais: \" + \", \".join(est[\"canais\"]))\n",
        "    return \"\\n\".join(linhas)\n",
        "\n",
        "canonical_text = canonicalize_briefing_to_text(briefing)\n",
        "kb_name = f\"Briefing — {datetime.utcnow().isoformat()}\"\n",
        "\n",
        "resp_add = dumpling_add_to_kb(DUMPLING_KB_ID, kb_name, canonical_text)\n",
        "print(\"✅ Briefing indexado na KB com nome:\", resp_add.get(\"name\"))"
      ],
      "metadata": {
        "colab": {
          "base_uri": "https://localhost:8080/"
        },
        "id": "j68V0iTz2A8N",
        "outputId": "c4434e51-3f69-452e-9bf7-0779dc790958",
        "title": "➕ Indexar o briefing no Knowledge Base (Dumpling)"
      },
      "execution_count": 7,
      "outputs": [
        {
          "output_type": "stream",
          "name": "stderr",
          "text": [
            "/tmp/ipython-input-3227626404.py:35: DeprecationWarning: datetime.datetime.utcnow() is deprecated and scheduled for removal in a future version. Use timezone-aware objects to represent datetimes in UTC: datetime.datetime.now(datetime.UTC).\n",
            "  kb_name = f\"Briefing — {datetime.utcnow().isoformat()}\"\n"
          ]
        },
        {
          "output_type": "stream",
          "name": "stdout",
          "text": [
            "✅ Briefing indexado na KB com nome: Briefing — 2025-09-10T03:27:51.115700\n"
          ]
        }
      ],
      "id": "j68V0iTz2A8N"
    },
    {
      "cell_type": "code",
      "source": [
        "llm = ChatGoogleGenerativeAI(\n",
        "    model=GEMINI_MODEL,\n",
        "    temperature=TEMPERATURE,\n",
        "    max_output_tokens=MAX_TOKENS\n",
        ")\n",
        "\n",
        "SYSTEM_BASE = (\n",
        "    \"Você é parte de uma REDE DE AGENTES especialista em copy para lançamentos de infoprodutos. \"\n",
        "    \"Use o TOM DE VOZ do briefing. Foque em clareza, estratégia e ativos prontos para usar. \"\n",
        "    \"Respeite a persona (dores, desejos) e o posicionamento (USP).\"\n",
        ")\n",
        "\n",
        "def join_docs(docs: List[Document]) -> str:\n",
        "    blocos = []\n",
        "    for i, d in enumerate(docs, 1):\n",
        "        src = d.metadata.get(\"resource_name\") or d.metadata.get(\"id\") or f\"doc{i}\"\n",
        "        blocos.append(f\"[Fonte: {src}]\\n{d.page_content}\")\n",
        "    return \"\\n\\n\".join(blocos)\n",
        "\n",
        "def build_rag_context(brief: Dict[str, Any]) -> str:\n",
        "    b   = brief.get(\"briefing_lancamento\", {})\n",
        "    pub = b.get(\"publico_alvo\", {})\n",
        "    pos = b.get(\"posicionamento\", {})\n",
        "    est = b.get(\"estrategia_lancamento\", {})\n",
        "\n",
        "    queries = []\n",
        "    if pub.get(\"problema_principal\"):\n",
        "        queries.append(pub[\"problema_principal\"])\n",
        "    if pub.get(\"transformacao_principal\"):\n",
        "        queries.append(pub[\"transformacao_principal\"])\n",
        "    if pos.get(\"diferencial_competitivo\"):\n",
        "        queries.append(pos[\"diferencial_competitivo\"])\n",
        "    if est.get(\"tipo_lancamento\"):\n",
        "        queries.append(f\"táticas de lançamento {est['tipo_lancamento']}\")\n",
        "\n",
        "    if not queries:\n",
        "        queries = [\"briefing do produto\"]\n",
        "\n",
        "    docs_all: List[Document] = []\n",
        "    for q in queries:\n",
        "        docs_all.extend(retriever.get_relevant_documents(q))\n",
        "\n",
        "    # dedup simples\n",
        "    seen, uniq = set(), []\n",
        "    for d in docs_all:\n",
        "        key = (d.page_content[:120], d.metadata.get(\"id\"))\n",
        "        if key not in seen:\n",
        "            seen.add(key)\n",
        "            uniq.append(d)\n",
        "\n",
        "    return join_docs(uniq[:12])\n",
        "\n",
        "contexto = build_rag_context(briefing)\n",
        "briefing_str = json.dumps(briefing, ensure_ascii=False, indent=2)\n",
        "\n",
        "# ===== Agente 1: Dores & Promessas =====\n",
        "prompt_dores = ChatPromptTemplate.from_messages([\n",
        "    (\"system\", SYSTEM_BASE + \" Gere DORES priorizadas e PROMESSAS (transformações).\"),\n",
        "    (\"human\", \"Briefing (JSON):\\n{briefing}\\n\\nContexto RAG:\\n{contexto}\\n\\nRetorne JSON com campos: dores[], promessas[].\")\n",
        "])\n",
        "chain_dores = prompt_dores | llm\n",
        "\n",
        "# ===== Agente 2: Objeções & Quebras =====\n",
        "prompt_obj = ChatPromptTemplate.from_messages([\n",
        "    (\"system\", SYSTEM_BASE + \" Liste as OBJEÇÕES mais prováveis e QUEBRAS (respostas estratégicas).\"),\n",
        "    (\"human\", \"Briefing (JSON):\\n{briefing}\\n\\nContexto RAG:\\n{contexto}\\n\\nRetorne JSON com campos: objecoes[], quebras[].\")\n",
        "])\n",
        "chain_obj = prompt_obj | llm\n",
        "\n",
        "# ===== Agente 3: Headlines & Ângulos =====\n",
        "prompt_head = ChatPromptTemplate.from_messages([\n",
        "    (\"system\", SYSTEM_BASE + \" Proponha HEADLINES e ÂNGULOS criativos prontos para testes.\"),\n",
        "    (\"human\", \"Briefing (JSON):\\n{briefing}\\n\\nContexto RAG:\\n{contexto}\\n\\nRetorne JSON com campos: headlines[], angulos[].\")\n",
        "])\n",
        "chain_head = prompt_head | llm\n",
        "\n",
        "# ===== Agente 4: Adaptação por Canais =====\n",
        "prompt_canais = ChatPromptTemplate.from_messages([\n",
        "    (\"system\", SYSTEM_BASE + \" Adapte a mensagem para Canais: Email, Stories IG, Meta Ads, YouTube/VSL.\"),\n",
        "    (\"human\", \"Briefing (JSON):\\n{briefing}\\n\\nContexto RAG:\\n{contexto}\\n\\nRetorne JSON com campos: email.sequence[], stories.scripts[], ads.variacoes[], vsl.outline[].\")\n",
        "])\n",
        "chain_canais = prompt_canais | llm\n",
        "\n",
        "print(\"✅ Prompts e cadeias prontos\")"
      ],
      "metadata": {
        "colab": {
          "base_uri": "https://localhost:8080/"
        },
        "id": "e3Tj8VfE0UjO",
        "outputId": "af325552-2b2b-4497-bdea-09efa757c505",
        "title": "🤖 LLM (Gemini) e prompts dos 4 agentes"
      },
      "execution_count": 12,
      "outputs": [
        {
          "output_type": "stream",
          "name": "stdout",
          "text": [
            "✅ Prompts e cadeias prontos\n"
          ]
        }
      ],
      "id": "e3Tj8VfE0UjO"
    },
    {
      "cell_type": "code",
      "source": [
        "parallel = RunnableParallel(\n",
        "    dores=chain_dores,\n",
        "    obj=chain_obj,\n",
        "    head=chain_head,\n",
        "    canais=chain_canais,\n",
        ")\n",
        "\n",
        "outputs = parallel.invoke({\n",
        "    \"briefing\": briefing_str,\n",
        "    \"contexto\": contexto\n",
        "})\n",
        "print(\"✅ Agentes concluídos\")"
      ],
      "metadata": {
        "colab": {
          "base_uri": "https://localhost:8080/"
        },
        "id": "z9vVlO8S2p3h",
        "outputId": "aa8d8d18-8dd0-45db-a16a-caee2c75b54d",
        "title": "⛓️ Orquestrar execução (paralelo) e agregar saídas"
      },
      "execution_count": 13,
      "outputs": [
        {
          "output_type": "stream",
          "name": "stdout",
          "text": [
            "✅ Agentes concluídos\n"
          ]
        }
      ],
      "id": "z9vVlO8S2p3h"
    },
    {
      "cell_type": "code",
      "source": [
        "def safe_json(resp) -> Any:\n",
        "    text = resp.content if hasattr(resp, \"content\") else str(resp)\n",
        "    try:\n",
        "        return json.loads(text)\n",
        "    except Exception:\n",
        "        m = re.search(r\"\\{[\\s\\S]*\\}\\s*$\", text)\n",
        "        if m:\n",
        "            try:\n",
        "                return json.loads(m.group(0))\n",
        "            except Exception:\n",
        "                pass\n",
        "        return {\"raw\": text}\n",
        "\n",
        "assets = {\n",
        "    \"dores_promessas\":  safe_json(outputs[\"dores\"]),\n",
        "    \"objeções_quebras\": safe_json(outputs[\"obj\"]),\n",
        "    \"headlines_angulos\":safe_json(outputs[\"head\"]),\n",
        "    \"por_canais\":       safe_json(outputs[\"canais\"]),\n",
        "}\n",
        "\n",
        "import os\n",
        "os.makedirs(\"outputs\", exist_ok=True)\n",
        "with open(\"outputs/assets.json\", \"w\", encoding=\"utf-8\") as f:\n",
        "    json.dump(assets, f, ensure_ascii=False, indent=2)\n",
        "\n",
        "with open(\"outputs/assets.md\", \"w\", encoding=\"utf-8\") as f:\n",
        "    f.write(\"# Assets de Lançamento (gerados)\\n\\n\")\n",
        "    for k,v in assets.items():\n",
        "        f.write(f\"## {k}\\n```json\\n{json.dumps(v, ensure_ascii=False, indent=2)}\\n```\\n\\n\")\n",
        "\n",
        "print(\"✅ Salvo em outputs/assets.json e outputs/assets.md\")"
      ],
      "metadata": {
        "colab": {
          "base_uri": "https://localhost:8080/"
        },
        "id": "e3Tj8VfE0UjP",
        "outputId": "e56861f2-e675-44b0-a7d9-a78edfefdbdd",
        "title": "💾 Normalizar/salvar assets (JSON/Markdown)"
      },
      "execution_count": 14,
      "outputs": [
        {
          "output_type": "stream",
          "name": "stdout",
          "text": [
            "✅ Salvo em outputs/assets.json e outputs/assets.md\n"
          ]
        }
      ],
      "id": "e3Tj8VfE0UjP"
    },
    {
      "cell_type": "code",
      "source": [
        "# @title ⬆️ (Opcional) Enviar os assets gerados para a Knowledge Base\n",
        "PUSH_ASSETS_TO_KB = False  # @param {type:\"boolean\"}\n",
        "\n",
        "if PUSH_ASSETS_TO_KB:\n",
        "    content_assets = open(\"outputs/assets.md\", \"r\", encoding=\"utf-8\").read()\n",
        "    resp_add_assets = dumpling_add_to_kb(\n",
        "        DUMPLING_KB_ID,\n",
        "        name=f\"Assets Gerados — {datetime.utcnow().isoformat()}\",\n",
        "        content=content_assets\n",
        "    )\n",
        "    print(\"✅ Assets enviados para a KB como:\", resp_add_assets.get(\"name\"))\n",
        "else:\n",
        "    print(\"Pulando envio à KB (PUSH_ASSETS_TO_KB=False).\")"
      ],
      "metadata": {
        "id": "J1xI20_m6y7r",
        "colab": {
          "base_uri": "https://localhost:8080/",
          "height": 37
        },
        "outputId": "b3e34f89-c454-4f93-f116-2487cc0e6a4b"
      },
      "execution_count": null,
      "outputs": [
        {
          "output_type": "stream",
          "name": "stdout",
          "text": [
            "Pulando envio à KB (PUSH_ASSETS_TO_KB=False).\n"
          ]
        }
      ],
      "id": "J1xI20_m6y7r"
    }
  ]
}